{
 "cells": [
  {
   "cell_type": "markdown",
   "metadata": {},
   "source": [
    "# Lab 3 # comparing models and scaling effect\n",
    "\n",
    "Group members:\n",
    "- Name (ID): Sai Sahas Elluru (0753808)\n",
    "- Name (ID): Hari Sai Palem (0747511)\n",
    "- Name (ID): Siddharth Singh (0756590)\n",
    "\n",
    "In this lab, the main objective is to understand the different models and compare their capabilities, we also look at scaling and how applying it helps in certain machine learning models.\n",
    "\n",
    "By the end of this lab you should have:\n",
    "\n",
    "- gained experience with building different models and ploting the results.\n",
    "- a better understanding of scaling and how it affects different models. "
   ]
  },
  {
   "cell_type": "markdown",
   "metadata": {},
   "source": [
    "### Grading\n",
    "\n",
    "This lab will be graded as follows:\n",
    "- 50% for comments/text\n",
    "    - Half of the lab grade will come from an assessment of the comments/text included in your Jupyter notebook submission\n",
    "        - The comments/text should explain clearly what you are doing and why it's necessary to achieve the objective\n",
    "        - You should think of the comments/text as if you were creating a tutorial/blog to guide someone through your work \n",
    "- 50% for code\n",
    "    - Half of the lab grade will come from an assessment of your code\n",
    "        - The code in the notebook should use base python, NumPy, Pandas, sklearn, and/or matplotlib. \n",
    "        - All code cells should run error free\n",
    "        - The code does not have to be optimized or pretty: it needs to be functional for the specific task"
   ]
  },
  {
   "cell_type": "markdown",
   "metadata": {},
   "source": [
    "### Submition\n",
    "\n",
    "This is a **group submission** lab, so work in the same groups that you are already assigned to.\n",
    "\n",
    "You should submit the following:\n",
    "- a well-commented Jupyter notebook\n",
    "- the original dataset used as a .csv file"
   ]
  },
  {
   "cell_type": "markdown",
   "metadata": {},
   "source": [
    "### Instructions\n",
    "Find a publicly available dataset and load it using Pandas:\n",
    "\n",
    "The dataset should include at least 1,000 rows, 4 different features where one of these features is a categorical feature, and a binary class.\n",
    "\n",
    "Make sure to explain your findings at each step, especially steps (1,8 and 9).\n",
    "\n",
    "Use your last 3 digits from your user ID as a random state variable where applicable and do implement the following:"
   ]
  },
  {
   "cell_type": "code",
   "execution_count": 1,
   "metadata": {},
   "outputs": [],
   "source": [
    "import numpy as np\n",
    "import pandas as pd\n",
    "import matplotlib.pyplot as plt\n",
    "import seaborn as sns"
   ]
  },
  {
   "cell_type": "markdown",
   "metadata": {},
   "source": [
    "1- By observing the data and without building a classification model, find out if the data requires scaling or not, and explain how you came to your conclusion and confirm this with a plot of the data."
   ]
  },
  {
   "cell_type": "code",
   "execution_count": 5,
   "metadata": {},
   "outputs": [],
   "source": [
    "data = pd.read_csv('baseball.csv')"
   ]
  },
  {
   "cell_type": "code",
   "execution_count": 6,
   "metadata": {},
   "outputs": [],
   "source": [
    "data = data[['League','RS','RA','W','OBP','SLG','BA','Playoffs']]"
   ]
  },
  {
   "cell_type": "code",
   "execution_count": 7,
   "metadata": {},
   "outputs": [
    {
     "data": {
      "text/html": [
       "<div>\n",
       "<style scoped>\n",
       "    .dataframe tbody tr th:only-of-type {\n",
       "        vertical-align: middle;\n",
       "    }\n",
       "\n",
       "    .dataframe tbody tr th {\n",
       "        vertical-align: top;\n",
       "    }\n",
       "\n",
       "    .dataframe thead th {\n",
       "        text-align: right;\n",
       "    }\n",
       "</style>\n",
       "<table border=\"1\" class=\"dataframe\">\n",
       "  <thead>\n",
       "    <tr style=\"text-align: right;\">\n",
       "      <th></th>\n",
       "      <th>League</th>\n",
       "      <th>RS</th>\n",
       "      <th>RA</th>\n",
       "      <th>W</th>\n",
       "      <th>OBP</th>\n",
       "      <th>SLG</th>\n",
       "      <th>BA</th>\n",
       "      <th>Playoffs</th>\n",
       "    </tr>\n",
       "  </thead>\n",
       "  <tbody>\n",
       "    <tr>\n",
       "      <th>0</th>\n",
       "      <td>NL</td>\n",
       "      <td>734</td>\n",
       "      <td>688</td>\n",
       "      <td>81</td>\n",
       "      <td>0.328</td>\n",
       "      <td>0.418</td>\n",
       "      <td>0.259</td>\n",
       "      <td>0</td>\n",
       "    </tr>\n",
       "    <tr>\n",
       "      <th>1</th>\n",
       "      <td>NL</td>\n",
       "      <td>700</td>\n",
       "      <td>600</td>\n",
       "      <td>94</td>\n",
       "      <td>0.320</td>\n",
       "      <td>0.389</td>\n",
       "      <td>0.247</td>\n",
       "      <td>1</td>\n",
       "    </tr>\n",
       "    <tr>\n",
       "      <th>2</th>\n",
       "      <td>AL</td>\n",
       "      <td>712</td>\n",
       "      <td>705</td>\n",
       "      <td>93</td>\n",
       "      <td>0.311</td>\n",
       "      <td>0.417</td>\n",
       "      <td>0.247</td>\n",
       "      <td>1</td>\n",
       "    </tr>\n",
       "    <tr>\n",
       "      <th>3</th>\n",
       "      <td>AL</td>\n",
       "      <td>734</td>\n",
       "      <td>806</td>\n",
       "      <td>69</td>\n",
       "      <td>0.315</td>\n",
       "      <td>0.415</td>\n",
       "      <td>0.260</td>\n",
       "      <td>0</td>\n",
       "    </tr>\n",
       "    <tr>\n",
       "      <th>4</th>\n",
       "      <td>NL</td>\n",
       "      <td>613</td>\n",
       "      <td>759</td>\n",
       "      <td>61</td>\n",
       "      <td>0.302</td>\n",
       "      <td>0.378</td>\n",
       "      <td>0.240</td>\n",
       "      <td>0</td>\n",
       "    </tr>\n",
       "  </tbody>\n",
       "</table>\n",
       "</div>"
      ],
      "text/plain": [
       "  League   RS   RA   W    OBP    SLG     BA  Playoffs\n",
       "0     NL  734  688  81  0.328  0.418  0.259         0\n",
       "1     NL  700  600  94  0.320  0.389  0.247         1\n",
       "2     AL  712  705  93  0.311  0.417  0.247         1\n",
       "3     AL  734  806  69  0.315  0.415  0.260         0\n",
       "4     NL  613  759  61  0.302  0.378  0.240         0"
      ]
     },
     "execution_count": 7,
     "metadata": {},
     "output_type": "execute_result"
    }
   ],
   "source": [
    "data.head()"
   ]
  },
  {
   "cell_type": "markdown",
   "metadata": {},
   "source": [
    "- The dataset represents the statiscs of base ball by Bean and DePodesta. It is the famous moneyball dataset.\n",
    "- The variables in the data set are:\n",
    "- League - This variable represents the league name.\n",
    "- Runs Scored (RS) - The 'Runs Scored' displays the number of runs they scored during that league. \n",
    "- Runs Allowed (RA) - The 'Runs Allowed' variable gives the information of how many runs did they give\n",
    "- Wins (W) - This variable gives the number of Won matches information.\n",
    "- On-Base Percentage (OBP) - The On-Base Percentage  refers to how frequently a batter reaches base per plate appearance. Times on base include hits, walks and hit-by-pitches,but do not include errors, times reached on a fielder's choice or a dropped third strike\n",
    "- Slugging Percentage (SLG) - The Slugging percentage represents the total number of bases a player records per at-bat.\n",
    "- Batting Average (BA) - In baseball, the batting average (BA) is defined by the number of hits divided by at bats. This variable gives batting average information of that particular batsmen.\n",
    "- Playoffs (binary) - The Playoffs mean the finals of a sports league. This variable gives the information that they qulaified to finals or not on that particualr league."
   ]
  },
  {
   "cell_type": "code",
   "execution_count": 8,
   "metadata": {},
   "outputs": [
    {
     "data": {
      "text/plain": [
       "(1000, 8)"
      ]
     },
     "execution_count": 8,
     "metadata": {},
     "output_type": "execute_result"
    }
   ],
   "source": [
    "data = data.dropna()\n",
    "data = data[0:1000]\n",
    "data.shape"
   ]
  },
  {
   "cell_type": "markdown",
   "metadata": {},
   "source": [
    "Scalingis done when there is huge magnitude difference between features. In our dataset by looking the head we can say that scaling has to be done because the magnitudes of RS, RA when compared to SLG, OBP are very high."
   ]
  },
  {
   "cell_type": "code",
   "execution_count": 9,
   "metadata": {},
   "outputs": [
    {
     "data": {
      "image/png": "[encoded data removed]",
      "text/plain": [
       "<Figure size 432x288 with 1 Axes>"
      ]
     },
     "metadata": {
      "needs_background": "light"
     },
     "output_type": "display_data"
    }
   ],
   "source": [
    "data.plot.line()\n",
    "plt.show()"
   ]
  },
  {
   "cell_type": "markdown",
   "metadata": {},
   "source": [
    "The above plot gives visual representation of distribution of featurees. It is clearly visible that the magnitudes of the features of the dataset are not comparable. So we are going to do scaling for the numerical features."
   ]
  },
  {
   "cell_type": "markdown",
   "metadata": {},
   "source": [
    "2- Apply the MinMaxScaler on the data and save it into a scaled version of the data."
   ]
  },
  {
   "cell_type": "code",
   "execution_count": 10,
   "metadata": {},
   "outputs": [
    {
     "data": {
      "text/plain": [
       "['RS', 'RA', 'W', 'OBP', 'SLG', 'BA', 'Playoffs']"
      ]
     },
     "execution_count": 10,
     "metadata": {},
     "output_type": "execute_result"
    }
   ],
   "source": [
    "numerical_feature = [feature for feature in data.columns if data[feature].dtypes!='O']\n",
    "numerical_feature"
   ]
  },
  {
   "cell_type": "markdown",
   "metadata": {},
   "source": [
    "This feature method is used to seperate the numerical features from Objects. Now the variable numerical_feature has only features which has data types other than object."
   ]
  },
  {
   "cell_type": "code",
   "execution_count": 11,
   "metadata": {},
   "outputs": [
    {
     "data": {
      "text/html": [
       "<div>\n",
       "<style scoped>\n",
       "    .dataframe tbody tr th:only-of-type {\n",
       "        vertical-align: middle;\n",
       "    }\n",
       "\n",
       "    .dataframe tbody tr th {\n",
       "        vertical-align: top;\n",
       "    }\n",
       "\n",
       "    .dataframe thead th {\n",
       "        text-align: right;\n",
       "    }\n",
       "</style>\n",
       "<table border=\"1\" class=\"dataframe\">\n",
       "  <thead>\n",
       "    <tr style=\"text-align: right;\">\n",
       "      <th></th>\n",
       "      <th>RS</th>\n",
       "      <th>RA</th>\n",
       "      <th>W</th>\n",
       "      <th>OBP</th>\n",
       "      <th>SLG</th>\n",
       "      <th>BA</th>\n",
       "    </tr>\n",
       "  </thead>\n",
       "  <tbody>\n",
       "    <tr>\n",
       "      <th>0</th>\n",
       "      <td>734</td>\n",
       "      <td>688</td>\n",
       "      <td>81</td>\n",
       "      <td>0.328</td>\n",
       "      <td>0.418</td>\n",
       "      <td>0.259</td>\n",
       "    </tr>\n",
       "    <tr>\n",
       "      <th>1</th>\n",
       "      <td>700</td>\n",
       "      <td>600</td>\n",
       "      <td>94</td>\n",
       "      <td>0.320</td>\n",
       "      <td>0.389</td>\n",
       "      <td>0.247</td>\n",
       "    </tr>\n",
       "    <tr>\n",
       "      <th>2</th>\n",
       "      <td>712</td>\n",
       "      <td>705</td>\n",
       "      <td>93</td>\n",
       "      <td>0.311</td>\n",
       "      <td>0.417</td>\n",
       "      <td>0.247</td>\n",
       "    </tr>\n",
       "    <tr>\n",
       "      <th>3</th>\n",
       "      <td>734</td>\n",
       "      <td>806</td>\n",
       "      <td>69</td>\n",
       "      <td>0.315</td>\n",
       "      <td>0.415</td>\n",
       "      <td>0.260</td>\n",
       "    </tr>\n",
       "    <tr>\n",
       "      <th>4</th>\n",
       "      <td>613</td>\n",
       "      <td>759</td>\n",
       "      <td>61</td>\n",
       "      <td>0.302</td>\n",
       "      <td>0.378</td>\n",
       "      <td>0.240</td>\n",
       "    </tr>\n",
       "    <tr>\n",
       "      <th>...</th>\n",
       "      <td>...</td>\n",
       "      <td>...</td>\n",
       "      <td>...</td>\n",
       "      <td>...</td>\n",
       "      <td>...</td>\n",
       "      <td>...</td>\n",
       "    </tr>\n",
       "    <tr>\n",
       "      <th>995</th>\n",
       "      <td>690</td>\n",
       "      <td>698</td>\n",
       "      <td>83</td>\n",
       "      <td>0.336</td>\n",
       "      <td>0.377</td>\n",
       "      <td>0.272</td>\n",
       "    </tr>\n",
       "    <tr>\n",
       "      <th>996</th>\n",
       "      <td>799</td>\n",
       "      <td>774</td>\n",
       "      <td>76</td>\n",
       "      <td>0.339</td>\n",
       "      <td>0.427</td>\n",
       "      <td>0.266</td>\n",
       "    </tr>\n",
       "    <tr>\n",
       "      <th>997</th>\n",
       "      <td>754</td>\n",
       "      <td>561</td>\n",
       "      <td>97</td>\n",
       "      <td>0.345</td>\n",
       "      <td>0.389</td>\n",
       "      <td>0.266</td>\n",
       "    </tr>\n",
       "    <tr>\n",
       "      <th>998</th>\n",
       "      <td>738</td>\n",
       "      <td>647</td>\n",
       "      <td>89</td>\n",
       "      <td>0.338</td>\n",
       "      <td>0.401</td>\n",
       "      <td>0.267</td>\n",
       "    </tr>\n",
       "    <tr>\n",
       "      <th>999</th>\n",
       "      <td>629</td>\n",
       "      <td>657</td>\n",
       "      <td>79</td>\n",
       "      <td>0.318</td>\n",
       "      <td>0.348</td>\n",
       "      <td>0.253</td>\n",
       "    </tr>\n",
       "  </tbody>\n",
       "</table>\n",
       "<p>1000 rows × 6 columns</p>\n",
       "</div>"
      ],
      "text/plain": [
       "      RS   RA   W    OBP    SLG     BA\n",
       "0    734  688  81  0.328  0.418  0.259\n",
       "1    700  600  94  0.320  0.389  0.247\n",
       "2    712  705  93  0.311  0.417  0.247\n",
       "3    734  806  69  0.315  0.415  0.260\n",
       "4    613  759  61  0.302  0.378  0.240\n",
       "..   ...  ...  ..    ...    ...    ...\n",
       "995  690  698  83  0.336  0.377  0.272\n",
       "996  799  774  76  0.339  0.427  0.266\n",
       "997  754  561  97  0.345  0.389  0.266\n",
       "998  738  647  89  0.338  0.401  0.267\n",
       "999  629  657  79  0.318  0.348  0.253\n",
       "\n",
       "[1000 rows x 6 columns]"
      ]
     },
     "execution_count": 11,
     "metadata": {},
     "output_type": "execute_result"
    }
   ],
   "source": [
    "Scaling = data[numerical_feature]\n",
    "Scaling = Scaling.drop('Playoffs', axis = 1)\n",
    "Scaling"
   ]
  },
  {
   "cell_type": "code",
   "execution_count": 12,
   "metadata": {},
   "outputs": [],
   "source": [
    "from sklearn.preprocessing import MinMaxScaler\n",
    "scaler = MinMaxScaler()\n",
    "Scaled_data = scaler.fit(Scaling)\n",
    "Scaled_data = scaler.transform(Scaling)\n",
    "Scaled_data = pd.DataFrame(Scaled_data)\n",
    "Scaled_data.columns = ['RS', 'RA', 'W', 'OBP', 'SLG', 'BA']"
   ]
  },
  {
   "cell_type": "code",
   "execution_count": 13,
   "metadata": {},
   "outputs": [
    {
     "data": {
      "text/html": [
       "<div>\n",
       "<style scoped>\n",
       "    .dataframe tbody tr th:only-of-type {\n",
       "        vertical-align: middle;\n",
       "    }\n",
       "\n",
       "    .dataframe tbody tr th {\n",
       "        vertical-align: top;\n",
       "    }\n",
       "\n",
       "    .dataframe thead th {\n",
       "        text-align: right;\n",
       "    }\n",
       "</style>\n",
       "<table border=\"1\" class=\"dataframe\">\n",
       "  <thead>\n",
       "    <tr style=\"text-align: right;\">\n",
       "      <th></th>\n",
       "      <th>RS</th>\n",
       "      <th>RA</th>\n",
       "      <th>W</th>\n",
       "      <th>OBP</th>\n",
       "      <th>SLG</th>\n",
       "      <th>BA</th>\n",
       "      <th>League</th>\n",
       "      <th>Playoffs</th>\n",
       "    </tr>\n",
       "  </thead>\n",
       "  <tbody>\n",
       "    <tr>\n",
       "      <th>0</th>\n",
       "      <td>0.445565</td>\n",
       "      <td>0.277003</td>\n",
       "      <td>0.520548</td>\n",
       "      <td>0.451220</td>\n",
       "      <td>0.578035</td>\n",
       "      <td>0.461538</td>\n",
       "      <td>NL</td>\n",
       "      <td>0</td>\n",
       "    </tr>\n",
       "    <tr>\n",
       "      <th>1</th>\n",
       "      <td>0.377016</td>\n",
       "      <td>0.123693</td>\n",
       "      <td>0.698630</td>\n",
       "      <td>0.353659</td>\n",
       "      <td>0.410405</td>\n",
       "      <td>0.276923</td>\n",
       "      <td>NL</td>\n",
       "      <td>1</td>\n",
       "    </tr>\n",
       "    <tr>\n",
       "      <th>2</th>\n",
       "      <td>0.401210</td>\n",
       "      <td>0.306620</td>\n",
       "      <td>0.684932</td>\n",
       "      <td>0.243902</td>\n",
       "      <td>0.572254</td>\n",
       "      <td>0.276923</td>\n",
       "      <td>AL</td>\n",
       "      <td>1</td>\n",
       "    </tr>\n",
       "    <tr>\n",
       "      <th>3</th>\n",
       "      <td>0.445565</td>\n",
       "      <td>0.482578</td>\n",
       "      <td>0.356164</td>\n",
       "      <td>0.292683</td>\n",
       "      <td>0.560694</td>\n",
       "      <td>0.476923</td>\n",
       "      <td>AL</td>\n",
       "      <td>0</td>\n",
       "    </tr>\n",
       "    <tr>\n",
       "      <th>4</th>\n",
       "      <td>0.201613</td>\n",
       "      <td>0.400697</td>\n",
       "      <td>0.246575</td>\n",
       "      <td>0.134146</td>\n",
       "      <td>0.346821</td>\n",
       "      <td>0.169231</td>\n",
       "      <td>NL</td>\n",
       "      <td>0</td>\n",
       "    </tr>\n",
       "  </tbody>\n",
       "</table>\n",
       "</div>"
      ],
      "text/plain": [
       "         RS        RA         W       OBP       SLG        BA League  Playoffs\n",
       "0  0.445565  0.277003  0.520548  0.451220  0.578035  0.461538     NL         0\n",
       "1  0.377016  0.123693  0.698630  0.353659  0.410405  0.276923     NL         1\n",
       "2  0.401210  0.306620  0.684932  0.243902  0.572254  0.276923     AL         1\n",
       "3  0.445565  0.482578  0.356164  0.292683  0.560694  0.476923     AL         0\n",
       "4  0.201613  0.400697  0.246575  0.134146  0.346821  0.169231     NL         0"
      ]
     },
     "execution_count": 13,
     "metadata": {},
     "output_type": "execute_result"
    }
   ],
   "source": [
    "Scaled = pd.concat([Scaled_data,data[['League','Playoffs']]],axis=1)\n",
    "Scaled.head()"
   ]
  },
  {
   "cell_type": "markdown",
   "metadata": {},
   "source": [
    "By using MinMaxScaler from sklearn we scaled the numerical features which result into values between 0 and 1. Before scaling we removed our target variable playoffs which is binary. Finally using concat we joined all columns into new variable scaled."
   ]
  },
  {
   "cell_type": "code",
   "execution_count": 14,
   "metadata": {},
   "outputs": [],
   "source": [
    "dummies = pd.get_dummies(Scaled['League'],drop_first= True)"
   ]
  },
  {
   "cell_type": "code",
   "execution_count": 15,
   "metadata": {},
   "outputs": [
    {
     "data": {
      "text/html": [
       "<div>\n",
       "<style scoped>\n",
       "    .dataframe tbody tr th:only-of-type {\n",
       "        vertical-align: middle;\n",
       "    }\n",
       "\n",
       "    .dataframe tbody tr th {\n",
       "        vertical-align: top;\n",
       "    }\n",
       "\n",
       "    .dataframe thead th {\n",
       "        text-align: right;\n",
       "    }\n",
       "</style>\n",
       "<table border=\"1\" class=\"dataframe\">\n",
       "  <thead>\n",
       "    <tr style=\"text-align: right;\">\n",
       "      <th></th>\n",
       "      <th>RS</th>\n",
       "      <th>RA</th>\n",
       "      <th>W</th>\n",
       "      <th>OBP</th>\n",
       "      <th>SLG</th>\n",
       "      <th>BA</th>\n",
       "      <th>Playoffs</th>\n",
       "      <th>NL</th>\n",
       "    </tr>\n",
       "  </thead>\n",
       "  <tbody>\n",
       "    <tr>\n",
       "      <th>0</th>\n",
       "      <td>0.445565</td>\n",
       "      <td>0.277003</td>\n",
       "      <td>0.520548</td>\n",
       "      <td>0.451220</td>\n",
       "      <td>0.578035</td>\n",
       "      <td>0.461538</td>\n",
       "      <td>0</td>\n",
       "      <td>1</td>\n",
       "    </tr>\n",
       "    <tr>\n",
       "      <th>1</th>\n",
       "      <td>0.377016</td>\n",
       "      <td>0.123693</td>\n",
       "      <td>0.698630</td>\n",
       "      <td>0.353659</td>\n",
       "      <td>0.410405</td>\n",
       "      <td>0.276923</td>\n",
       "      <td>1</td>\n",
       "      <td>1</td>\n",
       "    </tr>\n",
       "    <tr>\n",
       "      <th>2</th>\n",
       "      <td>0.401210</td>\n",
       "      <td>0.306620</td>\n",
       "      <td>0.684932</td>\n",
       "      <td>0.243902</td>\n",
       "      <td>0.572254</td>\n",
       "      <td>0.276923</td>\n",
       "      <td>1</td>\n",
       "      <td>0</td>\n",
       "    </tr>\n",
       "    <tr>\n",
       "      <th>3</th>\n",
       "      <td>0.445565</td>\n",
       "      <td>0.482578</td>\n",
       "      <td>0.356164</td>\n",
       "      <td>0.292683</td>\n",
       "      <td>0.560694</td>\n",
       "      <td>0.476923</td>\n",
       "      <td>0</td>\n",
       "      <td>0</td>\n",
       "    </tr>\n",
       "    <tr>\n",
       "      <th>4</th>\n",
       "      <td>0.201613</td>\n",
       "      <td>0.400697</td>\n",
       "      <td>0.246575</td>\n",
       "      <td>0.134146</td>\n",
       "      <td>0.346821</td>\n",
       "      <td>0.169231</td>\n",
       "      <td>0</td>\n",
       "      <td>1</td>\n",
       "    </tr>\n",
       "    <tr>\n",
       "      <th>...</th>\n",
       "      <td>...</td>\n",
       "      <td>...</td>\n",
       "      <td>...</td>\n",
       "      <td>...</td>\n",
       "      <td>...</td>\n",
       "      <td>...</td>\n",
       "      <td>...</td>\n",
       "      <td>...</td>\n",
       "    </tr>\n",
       "    <tr>\n",
       "      <th>995</th>\n",
       "      <td>0.356855</td>\n",
       "      <td>0.294425</td>\n",
       "      <td>0.547945</td>\n",
       "      <td>0.548780</td>\n",
       "      <td>0.341040</td>\n",
       "      <td>0.661538</td>\n",
       "      <td>0</td>\n",
       "      <td>0</td>\n",
       "    </tr>\n",
       "    <tr>\n",
       "      <th>996</th>\n",
       "      <td>0.576613</td>\n",
       "      <td>0.426829</td>\n",
       "      <td>0.452055</td>\n",
       "      <td>0.585366</td>\n",
       "      <td>0.630058</td>\n",
       "      <td>0.569231</td>\n",
       "      <td>0</td>\n",
       "      <td>1</td>\n",
       "    </tr>\n",
       "    <tr>\n",
       "      <th>997</th>\n",
       "      <td>0.485887</td>\n",
       "      <td>0.055749</td>\n",
       "      <td>0.739726</td>\n",
       "      <td>0.658537</td>\n",
       "      <td>0.410405</td>\n",
       "      <td>0.569231</td>\n",
       "      <td>1</td>\n",
       "      <td>0</td>\n",
       "    </tr>\n",
       "    <tr>\n",
       "      <th>998</th>\n",
       "      <td>0.453629</td>\n",
       "      <td>0.205575</td>\n",
       "      <td>0.630137</td>\n",
       "      <td>0.573171</td>\n",
       "      <td>0.479769</td>\n",
       "      <td>0.584615</td>\n",
       "      <td>0</td>\n",
       "      <td>0</td>\n",
       "    </tr>\n",
       "    <tr>\n",
       "      <th>999</th>\n",
       "      <td>0.233871</td>\n",
       "      <td>0.222997</td>\n",
       "      <td>0.493151</td>\n",
       "      <td>0.329268</td>\n",
       "      <td>0.173410</td>\n",
       "      <td>0.369231</td>\n",
       "      <td>0</td>\n",
       "      <td>0</td>\n",
       "    </tr>\n",
       "  </tbody>\n",
       "</table>\n",
       "<p>1000 rows × 8 columns</p>\n",
       "</div>"
      ],
      "text/plain": [
       "           RS        RA         W       OBP       SLG        BA  Playoffs  NL\n",
       "0    0.445565  0.277003  0.520548  0.451220  0.578035  0.461538         0   1\n",
       "1    0.377016  0.123693  0.698630  0.353659  0.410405  0.276923         1   1\n",
       "2    0.401210  0.306620  0.684932  0.243902  0.572254  0.276923         1   0\n",
       "3    0.445565  0.482578  0.356164  0.292683  0.560694  0.476923         0   0\n",
       "4    0.201613  0.400697  0.246575  0.134146  0.346821  0.169231         0   1\n",
       "..        ...       ...       ...       ...       ...       ...       ...  ..\n",
       "995  0.356855  0.294425  0.547945  0.548780  0.341040  0.661538         0   0\n",
       "996  0.576613  0.426829  0.452055  0.585366  0.630058  0.569231         0   1\n",
       "997  0.485887  0.055749  0.739726  0.658537  0.410405  0.569231         1   0\n",
       "998  0.453629  0.205575  0.630137  0.573171  0.479769  0.584615         0   0\n",
       "999  0.233871  0.222997  0.493151  0.329268  0.173410  0.369231         0   0\n",
       "\n",
       "[1000 rows x 8 columns]"
      ]
     },
     "execution_count": 15,
     "metadata": {},
     "output_type": "execute_result"
    }
   ],
   "source": [
    "Scaled_new = pd.concat([Scaled,dummies],axis=1)\n",
    "Scaled_new.drop('League',axis=1,inplace=True)\n",
    "Scaled_new"
   ]
  },
  {
   "cell_type": "markdown",
   "metadata": {},
   "source": [
    "Using another pandas tool dummies, we converted League which has values NL and AL into 1 and 0. Then we concated the columns to get the full dataframe. Now we have got the scaled dataframe."
   ]
  },
  {
   "cell_type": "markdown",
   "metadata": {},
   "source": [
    "3- Split the data into 5% testing and 95% training data.\n",
    "\n"
   ]
  },
  {
   "cell_type": "code",
   "execution_count": 16,
   "metadata": {},
   "outputs": [
    {
     "data": {
      "text/html": [
       "<div>\n",
       "<style scoped>\n",
       "    .dataframe tbody tr th:only-of-type {\n",
       "        vertical-align: middle;\n",
       "    }\n",
       "\n",
       "    .dataframe tbody tr th {\n",
       "        vertical-align: top;\n",
       "    }\n",
       "\n",
       "    .dataframe thead th {\n",
       "        text-align: right;\n",
       "    }\n",
       "</style>\n",
       "<table border=\"1\" class=\"dataframe\">\n",
       "  <thead>\n",
       "    <tr style=\"text-align: right;\">\n",
       "      <th></th>\n",
       "      <th>RS</th>\n",
       "      <th>RA</th>\n",
       "      <th>W</th>\n",
       "      <th>OBP</th>\n",
       "      <th>SLG</th>\n",
       "      <th>BA</th>\n",
       "      <th>Playoffs</th>\n",
       "      <th>NL</th>\n",
       "    </tr>\n",
       "  </thead>\n",
       "  <tbody>\n",
       "    <tr>\n",
       "      <th>0</th>\n",
       "      <td>734</td>\n",
       "      <td>688</td>\n",
       "      <td>81</td>\n",
       "      <td>0.328</td>\n",
       "      <td>0.418</td>\n",
       "      <td>0.259</td>\n",
       "      <td>0</td>\n",
       "      <td>1</td>\n",
       "    </tr>\n",
       "    <tr>\n",
       "      <th>1</th>\n",
       "      <td>700</td>\n",
       "      <td>600</td>\n",
       "      <td>94</td>\n",
       "      <td>0.320</td>\n",
       "      <td>0.389</td>\n",
       "      <td>0.247</td>\n",
       "      <td>1</td>\n",
       "      <td>1</td>\n",
       "    </tr>\n",
       "    <tr>\n",
       "      <th>2</th>\n",
       "      <td>712</td>\n",
       "      <td>705</td>\n",
       "      <td>93</td>\n",
       "      <td>0.311</td>\n",
       "      <td>0.417</td>\n",
       "      <td>0.247</td>\n",
       "      <td>1</td>\n",
       "      <td>0</td>\n",
       "    </tr>\n",
       "    <tr>\n",
       "      <th>3</th>\n",
       "      <td>734</td>\n",
       "      <td>806</td>\n",
       "      <td>69</td>\n",
       "      <td>0.315</td>\n",
       "      <td>0.415</td>\n",
       "      <td>0.260</td>\n",
       "      <td>0</td>\n",
       "      <td>0</td>\n",
       "    </tr>\n",
       "    <tr>\n",
       "      <th>4</th>\n",
       "      <td>613</td>\n",
       "      <td>759</td>\n",
       "      <td>61</td>\n",
       "      <td>0.302</td>\n",
       "      <td>0.378</td>\n",
       "      <td>0.240</td>\n",
       "      <td>0</td>\n",
       "      <td>1</td>\n",
       "    </tr>\n",
       "    <tr>\n",
       "      <th>...</th>\n",
       "      <td>...</td>\n",
       "      <td>...</td>\n",
       "      <td>...</td>\n",
       "      <td>...</td>\n",
       "      <td>...</td>\n",
       "      <td>...</td>\n",
       "      <td>...</td>\n",
       "      <td>...</td>\n",
       "    </tr>\n",
       "    <tr>\n",
       "      <th>995</th>\n",
       "      <td>690</td>\n",
       "      <td>698</td>\n",
       "      <td>83</td>\n",
       "      <td>0.336</td>\n",
       "      <td>0.377</td>\n",
       "      <td>0.272</td>\n",
       "      <td>0</td>\n",
       "      <td>0</td>\n",
       "    </tr>\n",
       "    <tr>\n",
       "      <th>996</th>\n",
       "      <td>799</td>\n",
       "      <td>774</td>\n",
       "      <td>76</td>\n",
       "      <td>0.339</td>\n",
       "      <td>0.427</td>\n",
       "      <td>0.266</td>\n",
       "      <td>0</td>\n",
       "      <td>1</td>\n",
       "    </tr>\n",
       "    <tr>\n",
       "      <th>997</th>\n",
       "      <td>754</td>\n",
       "      <td>561</td>\n",
       "      <td>97</td>\n",
       "      <td>0.345</td>\n",
       "      <td>0.389</td>\n",
       "      <td>0.266</td>\n",
       "      <td>1</td>\n",
       "      <td>0</td>\n",
       "    </tr>\n",
       "    <tr>\n",
       "      <th>998</th>\n",
       "      <td>738</td>\n",
       "      <td>647</td>\n",
       "      <td>89</td>\n",
       "      <td>0.338</td>\n",
       "      <td>0.401</td>\n",
       "      <td>0.267</td>\n",
       "      <td>0</td>\n",
       "      <td>0</td>\n",
       "    </tr>\n",
       "    <tr>\n",
       "      <th>999</th>\n",
       "      <td>629</td>\n",
       "      <td>657</td>\n",
       "      <td>79</td>\n",
       "      <td>0.318</td>\n",
       "      <td>0.348</td>\n",
       "      <td>0.253</td>\n",
       "      <td>0</td>\n",
       "      <td>0</td>\n",
       "    </tr>\n",
       "  </tbody>\n",
       "</table>\n",
       "<p>1000 rows × 8 columns</p>\n",
       "</div>"
      ],
      "text/plain": [
       "      RS   RA   W    OBP    SLG     BA  Playoffs  NL\n",
       "0    734  688  81  0.328  0.418  0.259         0   1\n",
       "1    700  600  94  0.320  0.389  0.247         1   1\n",
       "2    712  705  93  0.311  0.417  0.247         1   0\n",
       "3    734  806  69  0.315  0.415  0.260         0   0\n",
       "4    613  759  61  0.302  0.378  0.240         0   1\n",
       "..   ...  ...  ..    ...    ...    ...       ...  ..\n",
       "995  690  698  83  0.336  0.377  0.272         0   0\n",
       "996  799  774  76  0.339  0.427  0.266         0   1\n",
       "997  754  561  97  0.345  0.389  0.266         1   0\n",
       "998  738  647  89  0.338  0.401  0.267         0   0\n",
       "999  629  657  79  0.318  0.348  0.253         0   0\n",
       "\n",
       "[1000 rows x 8 columns]"
      ]
     },
     "execution_count": 16,
     "metadata": {},
     "output_type": "execute_result"
    }
   ],
   "source": [
    "data = data.drop('League',axis=1)\n",
    "data = pd.concat([data,dummies],axis=1)\n",
    "data"
   ]
  },
  {
   "cell_type": "markdown",
   "metadata": {},
   "source": [
    "We have converted values in League from NL & AL to 1 & 0 for the original data as well. This is done using the same pandas tool get_dummies."
   ]
  },
  {
   "cell_type": "code",
   "execution_count": 17,
   "metadata": {},
   "outputs": [],
   "source": [
    "X = data.drop('Playoffs',axis=1)\n",
    "Y = data.Playoffs.values\n",
    "x = Scaled_new.drop('Playoffs',axis=1)\n",
    "y = Scaled_new.Playoffs.values"
   ]
  },
  {
   "cell_type": "code",
   "execution_count": 18,
   "metadata": {},
   "outputs": [],
   "source": [
    "from sklearn.model_selection import train_test_split\n",
    "X_train, X_test, Y_train, Y_test = train_test_split(X, Y, test_size=0.05, random_state= 590)\n",
    "x_train, x_test, y_train, y_test = train_test_split(x, y, test_size=0.05, random_state=590)"
   ]
  },
  {
   "cell_type": "code",
   "execution_count": 21,
   "metadata": {},
   "outputs": [
    {
     "name": "stdout",
     "output_type": "stream",
     "text": [
      "(950, 7)\n",
      "(50, 7)\n",
      "(950,)\n",
      "(50,)\n"
     ]
    },
    {
     "ename": "AttributeError",
     "evalue": "'numpy.ndarray' object has no attribute 'columns'",
     "output_type": "error",
     "traceback": [
      "\u001b[1;31m---------------------------------------------------------------------------\u001b[0m",
      "\u001b[1;31mAttributeError\u001b[0m                            Traceback (most recent call last)",
      "\u001b[1;32m<ipython-input-21-c6c6d6a8b902>\u001b[0m in \u001b[0;36m<module>\u001b[1;34m\u001b[0m\n\u001b[0;32m      4\u001b[0m \u001b[0mprint\u001b[0m\u001b[1;33m(\u001b[0m\u001b[0mY_test\u001b[0m\u001b[1;33m.\u001b[0m\u001b[0mshape\u001b[0m\u001b[1;33m)\u001b[0m\u001b[1;33m\u001b[0m\u001b[1;33m\u001b[0m\u001b[0m\n\u001b[0;32m      5\u001b[0m \u001b[0mX\u001b[0m\u001b[1;33m.\u001b[0m\u001b[0mcolumns\u001b[0m\u001b[1;33m\u001b[0m\u001b[1;33m\u001b[0m\u001b[0m\n\u001b[1;32m----> 6\u001b[1;33m \u001b[0mY\u001b[0m\u001b[1;33m.\u001b[0m\u001b[0mcolumns\u001b[0m\u001b[1;33m\u001b[0m\u001b[1;33m\u001b[0m\u001b[0m\n\u001b[0m",
      "\u001b[1;31mAttributeError\u001b[0m: 'numpy.ndarray' object has no attribute 'columns'"
     ]
    }
   ],
   "source": [
    "print(X_train.shape)\n",
    "print(X_test.shape)\n",
    "print(Y_train.shape)\n",
    "print(Y_test.shape)\n",
    "X.columns\n",
    "Y.columns"
   ]
  },
  {
   "cell_type": "markdown",
   "metadata": {},
   "source": [
    "We have seperated the feature variables and target variables into (X(original),x(scaled)) and (Y(original),y(scaled)) respectively. Then by using train test split we have split the data in 5% testing and 95% training"
   ]
  },
  {
   "cell_type": "markdown",
   "metadata": {},
   "source": [
    "4- Build a classification model for the original data and the scaled data using the following methods:\n",
    " - Decision trees with no parameters.\n",
    " - Linear perceptron.\n",
    " - Linear SVM.\n",
    "\n"
   ]
  },
  {
   "cell_type": "code",
   "execution_count": 55,
   "metadata": {},
   "outputs": [],
   "source": [
    "from sklearn.tree import DecisionTreeClassifier\n",
    "from sklearn.svm import LinearSVC\n",
    "from sklearn.linear_model import Perceptron"
   ]
  },
  {
   "cell_type": "code",
   "execution_count": 56,
   "metadata": {},
   "outputs": [],
   "source": [
    "DT = DecisionTreeClassifier()\n",
    "Original_DT = DT.fit(X_train,Y_train)\n",
    "Scaled_DT = DT.fit(x_train,y_train)"
   ]
  },
  {
   "cell_type": "code",
   "execution_count": 57,
   "metadata": {},
   "outputs": [
    {
     "name": "stderr",
     "output_type": "stream",
     "text": [
      "C:\\Users\\saisa\\Anaconda3\\lib\\site-packages\\sklearn\\svm\\_base.py:947: ConvergenceWarning: Liblinear failed to converge, increase the number of iterations.\n",
      "  \"the number of iterations.\", ConvergenceWarning)\n"
     ]
    }
   ],
   "source": [
    "SVC = LinearSVC()\n",
    "Original_SVC = SVC.fit(X_train,Y_train)\n",
    "Scaled_SVC = SVC.fit(x_train,y_train)"
   ]
  },
  {
   "cell_type": "code",
   "execution_count": 58,
   "metadata": {},
   "outputs": [],
   "source": [
    "Per = Perceptron()\n",
    "Original_per = Per.fit(X_train,Y_train)\n",
    "Scaled_per = Per.fit(x_train,y_train)"
   ]
  },
  {
   "cell_type": "markdown",
   "metadata": {},
   "source": [
    "Here, we have created Decision Tree Classifier, Support Vector Classifier, and Perceptron models for both Original and scaled datasets. We have gone with the default parameters for models."
   ]
  },
  {
   "cell_type": "markdown",
   "metadata": {},
   "source": [
    "5- For the original data-set: calculate the accuracy of the testing and training data for each model, plot the accuracy of the three models using a single plot.\n",
    "\n"
   ]
  },
  {
   "cell_type": "markdown",
   "metadata": {},
   "source": [
    "### Decision Trees Test Accuracy Score For Original Data"
   ]
  },
  {
   "cell_type": "code",
   "execution_count": 59,
   "metadata": {},
   "outputs": [
    {
     "data": {
      "text/plain": [
       "0.78"
      ]
     },
     "execution_count": 59,
     "metadata": {},
     "output_type": "execute_result"
    }
   ],
   "source": [
    "from sklearn.metrics import accuracy_score\n",
    "Original_DT = DT.fit(X_train,Y_train)\n",
    "Ypred = DT.predict(X_test)\n",
    "DT_Original_Test_accuracy = accuracy_score(Y_test,Ypred)\n",
    "DT_Original_Test_accuracy"
   ]
  },
  {
   "cell_type": "markdown",
   "metadata": {},
   "source": [
    "### DT Train Accuracy For Original DAta"
   ]
  },
  {
   "cell_type": "code",
   "execution_count": 60,
   "metadata": {},
   "outputs": [
    {
     "data": {
      "text/plain": [
       "1.0"
      ]
     },
     "execution_count": 60,
     "metadata": {},
     "output_type": "execute_result"
    }
   ],
   "source": [
    "Y_pred2 = DT.predict(X_train)\n",
    "DT_Original_Train_accuracy = accuracy_score(Y_train,Y_pred2)\n",
    "DT_Original_Train_accuracy"
   ]
  },
  {
   "cell_type": "markdown",
   "metadata": {},
   "source": [
    "### SVC Test Accuracy For Original DAta"
   ]
  },
  {
   "cell_type": "code",
   "execution_count": 61,
   "metadata": {},
   "outputs": [
    {
     "name": "stderr",
     "output_type": "stream",
     "text": [
      "C:\\Users\\saisa\\Anaconda3\\lib\\site-packages\\sklearn\\svm\\_base.py:947: ConvergenceWarning: Liblinear failed to converge, increase the number of iterations.\n",
      "  \"the number of iterations.\", ConvergenceWarning)\n"
     ]
    }
   ],
   "source": [
    "Original_SVC = SVC.fit(X_train,Y_train)\n",
    "Y_pred = SVC.predict(X_test)"
   ]
  },
  {
   "cell_type": "code",
   "execution_count": 62,
   "metadata": {},
   "outputs": [
    {
     "data": {
      "text/plain": [
       "0.68"
      ]
     },
     "execution_count": 62,
     "metadata": {},
     "output_type": "execute_result"
    }
   ],
   "source": [
    "SVC_Original_Test_accuracy = accuracy_score(Y_test,Y_pred)\n",
    "SVC_Original_Test_accuracy"
   ]
  },
  {
   "cell_type": "markdown",
   "metadata": {},
   "source": [
    "### SVC Train Accuracy For Original DAta"
   ]
  },
  {
   "cell_type": "code",
   "execution_count": 63,
   "metadata": {},
   "outputs": [
    {
     "data": {
      "text/plain": [
       "0.7673684210526316"
      ]
     },
     "execution_count": 63,
     "metadata": {},
     "output_type": "execute_result"
    }
   ],
   "source": [
    "Y_pred_2 = SVC.predict(X_train)\n",
    "SVC_Original_Train_accuracy = accuracy_score(Y_train,Y_pred_2)\n",
    "SVC_Original_Train_accuracy"
   ]
  },
  {
   "cell_type": "markdown",
   "metadata": {},
   "source": [
    "### Perceptron Test Accuracy For Original DAta"
   ]
  },
  {
   "cell_type": "code",
   "execution_count": 64,
   "metadata": {},
   "outputs": [
    {
     "data": {
      "text/plain": [
       "0.76"
      ]
     },
     "execution_count": 64,
     "metadata": {},
     "output_type": "execute_result"
    }
   ],
   "source": [
    "Original_per = Per.fit(X_train,Y_train)\n",
    "Y_pred = Per.predict(X_test)\n",
    "Per_Original_Test_accuracy = accuracy_score(Y_test,Y_pred)\n",
    "Per_Original_Test_accuracy"
   ]
  },
  {
   "cell_type": "markdown",
   "metadata": {},
   "source": [
    "### Perceptron Train Accuracy for Original Data"
   ]
  },
  {
   "cell_type": "code",
   "execution_count": 65,
   "metadata": {},
   "outputs": [
    {
     "data": {
      "text/plain": [
       "0.8368421052631579"
      ]
     },
     "execution_count": 65,
     "metadata": {},
     "output_type": "execute_result"
    }
   ],
   "source": [
    "Y_pred_2 = Per.predict(X_train)\n",
    "Per_Original_Train_accuracy = accuracy_score(Y_train,Y_pred_2)\n",
    "Per_Original_Train_accuracy"
   ]
  },
  {
   "cell_type": "markdown",
   "metadata": {},
   "source": [
    "Using accuracy score metric from sklearn we have calculated training and testing accuracy for original dataset for all the three models."
   ]
  },
  {
   "cell_type": "code",
   "execution_count": 67,
   "metadata": {},
   "outputs": [],
   "source": [
    "plot = {'models' : ['DT_Original', 'SVC_Original', 'Per_Original'], \n",
    "          'Test_acc' : [DT_Original_Test_accuracy, SVC_Original_Test_accuracy, Per_Original_Test_accuracy],\n",
    "         'Train_acc' : [DT_Original_Train_accuracy, SVC_Original_Train_accuracy, Per_Original_Train_accuracy]}"
   ]
  },
  {
   "cell_type": "code",
   "execution_count": 68,
   "metadata": {},
   "outputs": [
    {
     "data": {
      "text/html": [
       "<div>\n",
       "<style scoped>\n",
       "    .dataframe tbody tr th:only-of-type {\n",
       "        vertical-align: middle;\n",
       "    }\n",
       "\n",
       "    .dataframe tbody tr th {\n",
       "        vertical-align: top;\n",
       "    }\n",
       "\n",
       "    .dataframe thead th {\n",
       "        text-align: right;\n",
       "    }\n",
       "</style>\n",
       "<table border=\"1\" class=\"dataframe\">\n",
       "  <thead>\n",
       "    <tr style=\"text-align: right;\">\n",
       "      <th></th>\n",
       "      <th>models</th>\n",
       "      <th>Test_acc</th>\n",
       "      <th>Train_acc</th>\n",
       "    </tr>\n",
       "  </thead>\n",
       "  <tbody>\n",
       "    <tr>\n",
       "      <th>0</th>\n",
       "      <td>DT_Original</td>\n",
       "      <td>0.78</td>\n",
       "      <td>1.000000</td>\n",
       "    </tr>\n",
       "    <tr>\n",
       "      <th>1</th>\n",
       "      <td>SVC_Original</td>\n",
       "      <td>0.68</td>\n",
       "      <td>0.767368</td>\n",
       "    </tr>\n",
       "    <tr>\n",
       "      <th>2</th>\n",
       "      <td>Per_Original</td>\n",
       "      <td>0.76</td>\n",
       "      <td>0.836842</td>\n",
       "    </tr>\n",
       "  </tbody>\n",
       "</table>\n",
       "</div>"
      ],
      "text/plain": [
       "         models  Test_acc  Train_acc\n",
       "0   DT_Original      0.78   1.000000\n",
       "1  SVC_Original      0.68   0.767368\n",
       "2  Per_Original      0.76   0.836842"
      ]
     },
     "execution_count": 68,
     "metadata": {},
     "output_type": "execute_result"
    }
   ],
   "source": [
    "plot_df = pd.DataFrame(plot)\n",
    "plot_df"
   ]
  },
  {
   "cell_type": "code",
   "execution_count": 69,
   "metadata": {},
   "outputs": [
    {
     "data": {
      "text/plain": [
       "<matplotlib.axes._subplots.AxesSubplot at 0x20d45a928c8>"
      ]
     },
     "execution_count": 69,
     "metadata": {},
     "output_type": "execute_result"
    },
    {
     "data": {
      "image/png": "[encoded data removed]",
      "text/plain": [
       "<Figure size 432x288 with 1 Axes>"
      ]
     },
     "metadata": {
      "needs_background": "light"
     },
     "output_type": "display_data"
    }
   ],
   "source": [
    "plot_df.plot.line()"
   ]
  },
  {
   "cell_type": "markdown",
   "metadata": {},
   "source": [
    "6- For the scaled data-sets: calculate the accuracy of the testing data for each model, plot the accuracy of the three models using a single plot.\n",
    "\n"
   ]
  },
  {
   "cell_type": "markdown",
   "metadata": {},
   "source": [
    "### Decision Trees Test Accuracy for Scaled Data"
   ]
  },
  {
   "cell_type": "code",
   "execution_count": 70,
   "metadata": {},
   "outputs": [],
   "source": [
    "Scaled_DT = DT.fit(x_train,y_train)"
   ]
  },
  {
   "cell_type": "code",
   "execution_count": 71,
   "metadata": {},
   "outputs": [],
   "source": [
    "y_pred = DT.predict(x_test)"
   ]
  },
  {
   "cell_type": "code",
   "execution_count": 72,
   "metadata": {},
   "outputs": [
    {
     "data": {
      "text/plain": [
       "0.74"
      ]
     },
     "execution_count": 72,
     "metadata": {},
     "output_type": "execute_result"
    }
   ],
   "source": [
    "DT_Scaled_Test_accuracy = accuracy_score(y_test,y_pred)\n",
    "DT_Scaled_Test_accuracy"
   ]
  },
  {
   "cell_type": "markdown",
   "metadata": {},
   "source": [
    "### DT Train Accuracy for Scaled Data"
   ]
  },
  {
   "cell_type": "code",
   "execution_count": 73,
   "metadata": {},
   "outputs": [
    {
     "data": {
      "text/plain": [
       "1.0"
      ]
     },
     "execution_count": 73,
     "metadata": {},
     "output_type": "execute_result"
    }
   ],
   "source": [
    "y_pred_2 = DT.predict(x_train)\n",
    "DT_Scaled_Train_accuracy = accuracy_score(y_train,y_pred_2)\n",
    "DT_Scaled_Train_accuracy"
   ]
  },
  {
   "cell_type": "markdown",
   "metadata": {},
   "source": [
    "### SVC Test Accuracy for Scaled Data"
   ]
  },
  {
   "cell_type": "code",
   "execution_count": 74,
   "metadata": {},
   "outputs": [
    {
     "data": {
      "text/plain": [
       "0.82"
      ]
     },
     "execution_count": 74,
     "metadata": {},
     "output_type": "execute_result"
    }
   ],
   "source": [
    "Scaled_SVC = SVC.fit(x_train,y_train)\n",
    "y_pred = SVC.predict(x_test)\n",
    "SVC_Scaled_Test_accuracy = accuracy_score(y_test,y_pred)\n",
    "SVC_Scaled_Test_accuracy"
   ]
  },
  {
   "cell_type": "markdown",
   "metadata": {},
   "source": [
    "### SVC Train Accuracy for Scaled Data"
   ]
  },
  {
   "cell_type": "code",
   "execution_count": 75,
   "metadata": {},
   "outputs": [
    {
     "data": {
      "text/plain": [
       "0.9136842105263158"
      ]
     },
     "execution_count": 75,
     "metadata": {},
     "output_type": "execute_result"
    }
   ],
   "source": [
    "y_pred_2 = SVC.predict(x_train)\n",
    "SVC_Scaled_Train_accuracy = accuracy_score(y_train,y_pred_2)\n",
    "SVC_Scaled_Train_accuracy"
   ]
  },
  {
   "cell_type": "markdown",
   "metadata": {},
   "source": [
    "### Perceptron Test Accuracy for Scaled Data"
   ]
  },
  {
   "cell_type": "code",
   "execution_count": 76,
   "metadata": {},
   "outputs": [
    {
     "data": {
      "text/plain": [
       "0.86"
      ]
     },
     "execution_count": 76,
     "metadata": {},
     "output_type": "execute_result"
    }
   ],
   "source": [
    "Scaled_per = Per.fit(x_train,y_train)\n",
    "y_pred = Per.predict(x_test)\n",
    "Per_Scaled_Test_accuracy = accuracy_score(y_test,y_pred)\n",
    "Per_Scaled_Test_accuracy"
   ]
  },
  {
   "cell_type": "markdown",
   "metadata": {},
   "source": [
    "### Perceptron Train Accuracy for Scaled Data"
   ]
  },
  {
   "cell_type": "code",
   "execution_count": 77,
   "metadata": {},
   "outputs": [
    {
     "data": {
      "text/plain": [
       "0.8726315789473684"
      ]
     },
     "execution_count": 77,
     "metadata": {},
     "output_type": "execute_result"
    }
   ],
   "source": [
    "y_pred_2 = Per.predict(x_train)\n",
    "Per_Scaled_Train_accuracy = accuracy_score(y_train,y_pred_2)\n",
    "Per_Scaled_Train_accuracy"
   ]
  },
  {
   "cell_type": "markdown",
   "metadata": {},
   "source": [
    "Using accuracy score metric from sklearn we have calculated training and testing accuracy for scaled dataset for all the three models."
   ]
  },
  {
   "cell_type": "code",
   "execution_count": 78,
   "metadata": {},
   "outputs": [],
   "source": [
    "plot_2 = {'models' : ['DT_Scaled', 'SVC_Scaled', 'Per_Scaled'], \n",
    "          'Test_acc' : [DT_Scaled_Test_accuracy, SVC_Scaled_Test_accuracy, Per_Scaled_Test_accuracy],\n",
    "         'Train_acc' : [DT_Scaled_Train_accuracy, SVC_Scaled_Train_accuracy, Per_Scaled_Train_accuracy]}"
   ]
  },
  {
   "cell_type": "code",
   "execution_count": 79,
   "metadata": {},
   "outputs": [],
   "source": [
    "plot_2_df = pd.DataFrame(plot_2)"
   ]
  },
  {
   "cell_type": "code",
   "execution_count": 80,
   "metadata": {},
   "outputs": [
    {
     "data": {
      "text/html": [
       "<div>\n",
       "<style scoped>\n",
       "    .dataframe tbody tr th:only-of-type {\n",
       "        vertical-align: middle;\n",
       "    }\n",
       "\n",
       "    .dataframe tbody tr th {\n",
       "        vertical-align: top;\n",
       "    }\n",
       "\n",
       "    .dataframe thead th {\n",
       "        text-align: right;\n",
       "    }\n",
       "</style>\n",
       "<table border=\"1\" class=\"dataframe\">\n",
       "  <thead>\n",
       "    <tr style=\"text-align: right;\">\n",
       "      <th></th>\n",
       "      <th>models</th>\n",
       "      <th>Test_acc</th>\n",
       "      <th>Train_acc</th>\n",
       "    </tr>\n",
       "  </thead>\n",
       "  <tbody>\n",
       "    <tr>\n",
       "      <th>0</th>\n",
       "      <td>DT_Scaled</td>\n",
       "      <td>0.74</td>\n",
       "      <td>1.000000</td>\n",
       "    </tr>\n",
       "    <tr>\n",
       "      <th>1</th>\n",
       "      <td>SVC_Scaled</td>\n",
       "      <td>0.82</td>\n",
       "      <td>0.913684</td>\n",
       "    </tr>\n",
       "    <tr>\n",
       "      <th>2</th>\n",
       "      <td>Per_Scaled</td>\n",
       "      <td>0.86</td>\n",
       "      <td>0.872632</td>\n",
       "    </tr>\n",
       "  </tbody>\n",
       "</table>\n",
       "</div>"
      ],
      "text/plain": [
       "       models  Test_acc  Train_acc\n",
       "0   DT_Scaled      0.74   1.000000\n",
       "1  SVC_Scaled      0.82   0.913684\n",
       "2  Per_Scaled      0.86   0.872632"
      ]
     },
     "execution_count": 80,
     "metadata": {},
     "output_type": "execute_result"
    }
   ],
   "source": [
    "plot_2_df"
   ]
  },
  {
   "cell_type": "code",
   "execution_count": 81,
   "metadata": {},
   "outputs": [
    {
     "data": {
      "text/plain": [
       "<matplotlib.axes._subplots.AxesSubplot at 0x20d45b235c8>"
      ]
     },
     "execution_count": 81,
     "metadata": {},
     "output_type": "execute_result"
    },
    {
     "data": {
      "image/png": "[encoded data removed]",
      "text/plain": [
       "<Figure size 432x288 with 1 Axes>"
      ]
     },
     "metadata": {
      "needs_background": "light"
     },
     "output_type": "display_data"
    }
   ],
   "source": [
    "plot_2_df.plot.line()"
   ]
  },
  {
   "cell_type": "markdown",
   "metadata": {},
   "source": [
    "7- Repeat steps 3 to 6 but this time increase the testing split size by 5% and decreasing the split size of the training data by 5%, do this until the testing size becomes 20% and the training size becomes 80%.\n"
   ]
  },
  {
   "cell_type": "code",
   "execution_count": 82,
   "metadata": {},
   "outputs": [],
   "source": [
    "from sklearn.model_selection import train_test_split\n",
    "X_train, X_test, Y_train, Y_test = train_test_split(X, Y, test_size=0.1, random_state= 590)\n",
    "x_train, x_test, y_train, y_test = train_test_split(x, y, test_size=0.1, random_state=590)"
   ]
  },
  {
   "cell_type": "markdown",
   "metadata": {},
   "source": [
    "using train test split we have split the data in 10% testing and 90% training"
   ]
  },
  {
   "cell_type": "markdown",
   "metadata": {},
   "source": [
    "### Decision Trees Test Accuracy for Original Data"
   ]
  },
  {
   "cell_type": "code",
   "execution_count": 83,
   "metadata": {},
   "outputs": [
    {
     "data": {
      "text/plain": [
       "0.81"
      ]
     },
     "execution_count": 83,
     "metadata": {},
     "output_type": "execute_result"
    }
   ],
   "source": [
    "Original_DT = DT.fit(X_train,Y_train)\n",
    "Y_pred = DT.predict(X_test)\n",
    "DT_Original_Test_Accuracy = accuracy_score(Y_test,Y_pred)\n",
    "DT_Original_Test_Accuracy"
   ]
  },
  {
   "cell_type": "markdown",
   "metadata": {},
   "source": [
    "### Decision Trees Train Accuracy for Original Data"
   ]
  },
  {
   "cell_type": "code",
   "execution_count": 84,
   "metadata": {},
   "outputs": [
    {
     "data": {
      "text/plain": [
       "1.0"
      ]
     },
     "execution_count": 84,
     "metadata": {},
     "output_type": "execute_result"
    }
   ],
   "source": [
    "Y_pred_2 = DT.predict(X_train)\n",
    "DT_Original_Train_Accuracy = accuracy_score(Y_train,Y_pred_2)\n",
    "DT_Original_Train_Accuracy"
   ]
  },
  {
   "cell_type": "markdown",
   "metadata": {},
   "source": [
    "### SVC Test Accuracy for Original Data"
   ]
  },
  {
   "cell_type": "code",
   "execution_count": 87,
   "metadata": {},
   "outputs": [
    {
     "name": "stderr",
     "output_type": "stream",
     "text": [
      "C:\\Users\\saisa\\Anaconda3\\lib\\site-packages\\sklearn\\svm\\_base.py:947: ConvergenceWarning: Liblinear failed to converge, increase the number of iterations.\n",
      "  \"the number of iterations.\", ConvergenceWarning)\n"
     ]
    },
    {
     "data": {
      "text/plain": [
       "0.75"
      ]
     },
     "execution_count": 87,
     "metadata": {},
     "output_type": "execute_result"
    }
   ],
   "source": [
    "Original_SVC = SVC.fit(X_train,Y_train)\n",
    "Y_pred = SVC.predict(X_test)\n",
    "SVC_Original_Test_Accuracy = accuracy_score(Y_test,Y_pred)\n",
    "SVC_Original_Test_Accuracy"
   ]
  },
  {
   "cell_type": "markdown",
   "metadata": {},
   "source": [
    "### SVC Train Accuracy for Original Data"
   ]
  },
  {
   "cell_type": "code",
   "execution_count": 88,
   "metadata": {},
   "outputs": [
    {
     "data": {
      "text/plain": [
       "0.83"
      ]
     },
     "execution_count": 88,
     "metadata": {},
     "output_type": "execute_result"
    }
   ],
   "source": [
    "Y_pred_2 = SVC.predict(X_train)\n",
    "SVC_Original_Train_Accuracy = accuracy_score(Y_train,Y_pred_2)\n",
    "SVC_Original_Train_Accuracy"
   ]
  },
  {
   "cell_type": "markdown",
   "metadata": {},
   "source": [
    "### Perceptron Test Accuracy for Original Data"
   ]
  },
  {
   "cell_type": "code",
   "execution_count": 89,
   "metadata": {},
   "outputs": [
    {
     "data": {
      "text/plain": [
       "0.83"
      ]
     },
     "execution_count": 89,
     "metadata": {},
     "output_type": "execute_result"
    }
   ],
   "source": [
    "Original_per = Per.fit(X_train,Y_train)\n",
    "Y_pred = Per.predict(X_test)\n",
    "Per_Original_Test_Accuracy = accuracy_score(Y_test,Y_pred)\n",
    "Per_Original_Test_Accuracy"
   ]
  },
  {
   "cell_type": "markdown",
   "metadata": {},
   "source": [
    "### Perceptron Train Accuracy for Original Data"
   ]
  },
  {
   "cell_type": "code",
   "execution_count": 90,
   "metadata": {},
   "outputs": [
    {
     "data": {
      "text/plain": [
       "0.8788888888888889"
      ]
     },
     "execution_count": 90,
     "metadata": {},
     "output_type": "execute_result"
    }
   ],
   "source": [
    "Y_pred_2 = Per.predict(X_train)\n",
    "Per_Original_Train_Accuracy = accuracy_score(Y_train,Y_pred_2)\n",
    "Per_Original_Train_Accuracy"
   ]
  },
  {
   "cell_type": "markdown",
   "metadata": {},
   "source": [
    "Using accuracy score metric from sklearn we have calculated training and testing accuracy for original dataset for all the three models."
   ]
  },
  {
   "cell_type": "code",
   "execution_count": 93,
   "metadata": {},
   "outputs": [
    {
     "data": {
      "text/html": [
       "<div>\n",
       "<style scoped>\n",
       "    .dataframe tbody tr th:only-of-type {\n",
       "        vertical-align: middle;\n",
       "    }\n",
       "\n",
       "    .dataframe tbody tr th {\n",
       "        vertical-align: top;\n",
       "    }\n",
       "\n",
       "    .dataframe thead th {\n",
       "        text-align: right;\n",
       "    }\n",
       "</style>\n",
       "<table border=\"1\" class=\"dataframe\">\n",
       "  <thead>\n",
       "    <tr style=\"text-align: right;\">\n",
       "      <th></th>\n",
       "      <th>models</th>\n",
       "      <th>Test_acc</th>\n",
       "      <th>Train_acc</th>\n",
       "    </tr>\n",
       "  </thead>\n",
       "  <tbody>\n",
       "    <tr>\n",
       "      <th>0</th>\n",
       "      <td>DT_Original</td>\n",
       "      <td>0.81</td>\n",
       "      <td>1.000000</td>\n",
       "    </tr>\n",
       "    <tr>\n",
       "      <th>1</th>\n",
       "      <td>SVC_Original</td>\n",
       "      <td>0.75</td>\n",
       "      <td>0.830000</td>\n",
       "    </tr>\n",
       "    <tr>\n",
       "      <th>2</th>\n",
       "      <td>Per_Original</td>\n",
       "      <td>0.83</td>\n",
       "      <td>0.878889</td>\n",
       "    </tr>\n",
       "  </tbody>\n",
       "</table>\n",
       "</div>"
      ],
      "text/plain": [
       "         models  Test_acc  Train_acc\n",
       "0   DT_Original      0.81   1.000000\n",
       "1  SVC_Original      0.75   0.830000\n",
       "2  Per_Original      0.83   0.878889"
      ]
     },
     "execution_count": 93,
     "metadata": {},
     "output_type": "execute_result"
    }
   ],
   "source": [
    "plot_3 = {'models' : ['DT_Original', 'SVC_Original', 'Per_Original'], \n",
    "          'Test_acc' : [DT_Original_Test_Accuracy, SVC_Original_Test_Accuracy, Per_Original_Test_Accuracy],\n",
    "         'Train_acc' : [DT_Original_Train_Accuracy, SVC_Original_Train_Accuracy, Per_Original_Train_Accuracy]}\n",
    "plot_3_df = pd.DataFrame(plot_3)\n",
    "plot_3_df"
   ]
  },
  {
   "cell_type": "code",
   "execution_count": 94,
   "metadata": {},
   "outputs": [
    {
     "data": {
      "text/plain": [
       "<matplotlib.axes._subplots.AxesSubplot at 0x20d45c14388>"
      ]
     },
     "execution_count": 94,
     "metadata": {},
     "output_type": "execute_result"
    },
    {
     "data": {
      "image/png": "[encoded data removed]",
      "text/plain": [
       "<Figure size 432x288 with 1 Axes>"
      ]
     },
     "metadata": {
      "needs_background": "light"
     },
     "output_type": "display_data"
    }
   ],
   "source": [
    "plot_3_df.plot.line()"
   ]
  },
  {
   "cell_type": "markdown",
   "metadata": {},
   "source": [
    "### Decision Test Accuracy for Scaled Data"
   ]
  },
  {
   "cell_type": "code",
   "execution_count": 101,
   "metadata": {},
   "outputs": [
    {
     "data": {
      "text/plain": [
       "0.74"
      ]
     },
     "execution_count": 101,
     "metadata": {},
     "output_type": "execute_result"
    }
   ],
   "source": [
    "Scaled_DT = DT.fit(x_train,y_train)\n",
    "y_pred = DT.predict(x_test)\n",
    "DT_Scaled_Test_Accuracy = accuracy_score(y_test,y_pred)\n",
    "DT_Scaled_Test_accuracy"
   ]
  },
  {
   "cell_type": "markdown",
   "metadata": {},
   "source": [
    "### Decision Train Accuracy for Scaled Data"
   ]
  },
  {
   "cell_type": "code",
   "execution_count": 96,
   "metadata": {},
   "outputs": [
    {
     "data": {
      "text/plain": [
       "1.0"
      ]
     },
     "execution_count": 96,
     "metadata": {},
     "output_type": "execute_result"
    }
   ],
   "source": [
    "y_pred_2 = DT.predict(x_train)\n",
    "DT_Scaled_Train_accuracy = accuracy_score(y_train,y_pred_2)\n",
    "DT_Scaled_Train_accuracy"
   ]
  },
  {
   "cell_type": "markdown",
   "metadata": {},
   "source": [
    "### SVC Test Accuracy for Scaled Data"
   ]
  },
  {
   "cell_type": "code",
   "execution_count": 97,
   "metadata": {},
   "outputs": [
    {
     "data": {
      "text/plain": [
       "0.86"
      ]
     },
     "execution_count": 97,
     "metadata": {},
     "output_type": "execute_result"
    }
   ],
   "source": [
    "Scaled_SVC = SVC.fit(x_train,y_train)\n",
    "y_pred = SVC.predict(x_test)\n",
    "SVC_Scaled_Test_accuracy = accuracy_score(y_test,y_pred)\n",
    "SVC_Scaled_Test_accuracy"
   ]
  },
  {
   "cell_type": "markdown",
   "metadata": {},
   "source": [
    "### SVC Train Accuracy for Scaled Data"
   ]
  },
  {
   "cell_type": "code",
   "execution_count": 98,
   "metadata": {},
   "outputs": [
    {
     "data": {
      "text/plain": [
       "0.9133333333333333"
      ]
     },
     "execution_count": 98,
     "metadata": {},
     "output_type": "execute_result"
    }
   ],
   "source": [
    "y_pred_2 = SVC.predict(x_train)\n",
    "SVC_Scaled_Train_accuracy = accuracy_score(y_train,y_pred_2)\n",
    "SVC_Scaled_Train_accuracy"
   ]
  },
  {
   "cell_type": "markdown",
   "metadata": {},
   "source": [
    "### Perceptron Test Accuracy for Scaled Data"
   ]
  },
  {
   "cell_type": "code",
   "execution_count": 99,
   "metadata": {},
   "outputs": [
    {
     "data": {
      "text/plain": [
       "0.86"
      ]
     },
     "execution_count": 99,
     "metadata": {},
     "output_type": "execute_result"
    }
   ],
   "source": [
    "Scaled_per = Per.fit(x_train,y_train)\n",
    "y_pred = Per.predict(x_test)\n",
    "Per_Scaled_Test_accuracy = accuracy_score(y_test,y_pred)\n",
    "Per_Scaled_Test_accuracy"
   ]
  },
  {
   "cell_type": "markdown",
   "metadata": {},
   "source": [
    "### Perceptron Train Accuracy for Scaled Data"
   ]
  },
  {
   "cell_type": "code",
   "execution_count": 100,
   "metadata": {},
   "outputs": [
    {
     "data": {
      "text/plain": [
       "0.91"
      ]
     },
     "execution_count": 100,
     "metadata": {},
     "output_type": "execute_result"
    }
   ],
   "source": [
    "y_pred_2 = Per.predict(x_train)\n",
    "Per_Scaled_Train_accuracy = accuracy_score(y_train,y_pred_2)\n",
    "Per_Scaled_Train_accuracy"
   ]
  },
  {
   "cell_type": "markdown",
   "metadata": {},
   "source": [
    "Using accuracy score metric from sklearn we have calculated training and testing accuracy for scaled dataset for all the three models."
   ]
  },
  {
   "cell_type": "code",
   "execution_count": 102,
   "metadata": {},
   "outputs": [
    {
     "data": {
      "text/html": [
       "<div>\n",
       "<style scoped>\n",
       "    .dataframe tbody tr th:only-of-type {\n",
       "        vertical-align: middle;\n",
       "    }\n",
       "\n",
       "    .dataframe tbody tr th {\n",
       "        vertical-align: top;\n",
       "    }\n",
       "\n",
       "    .dataframe thead th {\n",
       "        text-align: right;\n",
       "    }\n",
       "</style>\n",
       "<table border=\"1\" class=\"dataframe\">\n",
       "  <thead>\n",
       "    <tr style=\"text-align: right;\">\n",
       "      <th></th>\n",
       "      <th>models</th>\n",
       "      <th>Test_acc</th>\n",
       "      <th>Train_acc</th>\n",
       "    </tr>\n",
       "  </thead>\n",
       "  <tbody>\n",
       "    <tr>\n",
       "      <th>0</th>\n",
       "      <td>DT_Scaled</td>\n",
       "      <td>0.74</td>\n",
       "      <td>1.000000</td>\n",
       "    </tr>\n",
       "    <tr>\n",
       "      <th>1</th>\n",
       "      <td>SVC_Scaled</td>\n",
       "      <td>0.86</td>\n",
       "      <td>0.913333</td>\n",
       "    </tr>\n",
       "    <tr>\n",
       "      <th>2</th>\n",
       "      <td>Per_Scaled</td>\n",
       "      <td>0.86</td>\n",
       "      <td>0.910000</td>\n",
       "    </tr>\n",
       "  </tbody>\n",
       "</table>\n",
       "</div>"
      ],
      "text/plain": [
       "       models  Test_acc  Train_acc\n",
       "0   DT_Scaled      0.74   1.000000\n",
       "1  SVC_Scaled      0.86   0.913333\n",
       "2  Per_Scaled      0.86   0.910000"
      ]
     },
     "execution_count": 102,
     "metadata": {},
     "output_type": "execute_result"
    }
   ],
   "source": [
    "plot_4 = {'models' : ['DT_Scaled', 'SVC_Scaled', 'Per_Scaled'], \n",
    "          'Test_acc' : [DT_Scaled_Test_accuracy, SVC_Scaled_Test_accuracy, Per_Scaled_Test_accuracy],\n",
    "         'Train_acc' : [DT_Scaled_Train_accuracy, SVC_Scaled_Train_accuracy, Per_Scaled_Train_accuracy]}\n",
    "plot_4_df = pd.DataFrame(plot_4)\n",
    "plot_4_df"
   ]
  },
  {
   "cell_type": "code",
   "execution_count": 103,
   "metadata": {},
   "outputs": [
    {
     "data": {
      "text/plain": [
       "<matplotlib.axes._subplots.AxesSubplot at 0x20d4589e488>"
      ]
     },
     "execution_count": 103,
     "metadata": {},
     "output_type": "execute_result"
    },
    {
     "data": {
      "image/png": "[encoded data removed]",
      "text/plain": [
       "<Figure size 432x288 with 1 Axes>"
      ]
     },
     "metadata": {
      "needs_background": "light"
     },
     "output_type": "display_data"
    }
   ],
   "source": [
    "plot_4_df.plot.line()"
   ]
  },
  {
   "cell_type": "code",
   "execution_count": 104,
   "metadata": {},
   "outputs": [],
   "source": [
    "from sklearn.model_selection import train_test_split\n",
    "X_train, X_test, Y_train, Y_test = train_test_split(X, Y, test_size=0.15, random_state= 590)\n",
    "x_train, x_test, y_train, y_test = train_test_split(x, y, test_size=0.15, random_state=590)"
   ]
  },
  {
   "cell_type": "markdown",
   "metadata": {},
   "source": [
    "using train test split we have split the data in 15% testing and 85% training"
   ]
  },
  {
   "cell_type": "markdown",
   "metadata": {},
   "source": [
    "### Decision Trees Test Accuracy for Original Data"
   ]
  },
  {
   "cell_type": "code",
   "execution_count": 105,
   "metadata": {},
   "outputs": [
    {
     "data": {
      "text/plain": [
       "0.82"
      ]
     },
     "execution_count": 105,
     "metadata": {},
     "output_type": "execute_result"
    }
   ],
   "source": [
    "Original_DT = DT.fit(X_train,Y_train)\n",
    "Y_pred = DT.predict(X_test)\n",
    "DT_Original_Test_Accuracy = accuracy_score(Y_test,Y_pred)\n",
    "DT_Original_Test_Accuracy"
   ]
  },
  {
   "cell_type": "markdown",
   "metadata": {},
   "source": [
    "### Decision Trees Train Accuracy for Original Data"
   ]
  },
  {
   "cell_type": "code",
   "execution_count": 106,
   "metadata": {},
   "outputs": [
    {
     "data": {
      "text/plain": [
       "1.0"
      ]
     },
     "execution_count": 106,
     "metadata": {},
     "output_type": "execute_result"
    }
   ],
   "source": [
    "Y_pred_2 = DT.predict(X_train)\n",
    "DT_Original_Train_Accuracy = accuracy_score(Y_train,Y_pred_2)\n",
    "DT_Original_Train_Accuracy"
   ]
  },
  {
   "cell_type": "markdown",
   "metadata": {},
   "source": [
    "### SVC Test Accuracy for Original Data"
   ]
  },
  {
   "cell_type": "code",
   "execution_count": 107,
   "metadata": {},
   "outputs": [
    {
     "name": "stderr",
     "output_type": "stream",
     "text": [
      "C:\\Users\\saisa\\Anaconda3\\lib\\site-packages\\sklearn\\svm\\_base.py:947: ConvergenceWarning: Liblinear failed to converge, increase the number of iterations.\n",
      "  \"the number of iterations.\", ConvergenceWarning)\n"
     ]
    },
    {
     "data": {
      "text/plain": [
       "0.7933333333333333"
      ]
     },
     "execution_count": 107,
     "metadata": {},
     "output_type": "execute_result"
    }
   ],
   "source": [
    "Original_SVC = SVC.fit(X_train,Y_train)\n",
    "Y_pred = SVC.predict(X_test)\n",
    "SVC_Original_Test_Accuracy = accuracy_score(Y_test,Y_pred)\n",
    "SVC_Original_Test_Accuracy"
   ]
  },
  {
   "cell_type": "markdown",
   "metadata": {},
   "source": [
    "### SVC Train Accuracy for Original Data"
   ]
  },
  {
   "cell_type": "code",
   "execution_count": 108,
   "metadata": {},
   "outputs": [
    {
     "data": {
      "text/plain": [
       "0.8294117647058824"
      ]
     },
     "execution_count": 108,
     "metadata": {},
     "output_type": "execute_result"
    }
   ],
   "source": [
    "Y_pred_2 = SVC.predict(X_train)\n",
    "SVC_Original_Train_Accuracy = accuracy_score(Y_train,Y_pred_2)\n",
    "SVC_Original_Train_Accuracy"
   ]
  },
  {
   "cell_type": "markdown",
   "metadata": {},
   "source": [
    "### Perceptron Test Accuracy for Original Data"
   ]
  },
  {
   "cell_type": "code",
   "execution_count": 109,
   "metadata": {},
   "outputs": [
    {
     "data": {
      "text/plain": [
       "0.8"
      ]
     },
     "execution_count": 109,
     "metadata": {},
     "output_type": "execute_result"
    }
   ],
   "source": [
    "Original_per = Per.fit(X_train,Y_train)\n",
    "Y_pred = Per.predict(X_test)\n",
    "Per_Original_Test_Accuracy = accuracy_score(Y_test,Y_pred)\n",
    "Per_Original_Test_Accuracy"
   ]
  },
  {
   "cell_type": "markdown",
   "metadata": {},
   "source": [
    "### Perceptron Train Accuracy for Original Data"
   ]
  },
  {
   "cell_type": "code",
   "execution_count": 110,
   "metadata": {},
   "outputs": [
    {
     "data": {
      "text/plain": [
       "0.8447058823529412"
      ]
     },
     "execution_count": 110,
     "metadata": {},
     "output_type": "execute_result"
    }
   ],
   "source": [
    "Y_pred_2 = Per.predict(X_train)\n",
    "Per_Original_Train_Accuracy = accuracy_score(Y_train,Y_pred_2)\n",
    "Per_Original_Train_Accuracy"
   ]
  },
  {
   "cell_type": "markdown",
   "metadata": {},
   "source": [
    "Using accuracy score metric from sklearn we have calculated training and testing accuracy for original dataset for all the three models."
   ]
  },
  {
   "cell_type": "code",
   "execution_count": 111,
   "metadata": {},
   "outputs": [
    {
     "data": {
      "text/html": [
       "<div>\n",
       "<style scoped>\n",
       "    .dataframe tbody tr th:only-of-type {\n",
       "        vertical-align: middle;\n",
       "    }\n",
       "\n",
       "    .dataframe tbody tr th {\n",
       "        vertical-align: top;\n",
       "    }\n",
       "\n",
       "    .dataframe thead th {\n",
       "        text-align: right;\n",
       "    }\n",
       "</style>\n",
       "<table border=\"1\" class=\"dataframe\">\n",
       "  <thead>\n",
       "    <tr style=\"text-align: right;\">\n",
       "      <th></th>\n",
       "      <th>models</th>\n",
       "      <th>Test_acc</th>\n",
       "      <th>Train_acc</th>\n",
       "    </tr>\n",
       "  </thead>\n",
       "  <tbody>\n",
       "    <tr>\n",
       "      <th>0</th>\n",
       "      <td>DT_Original</td>\n",
       "      <td>0.820000</td>\n",
       "      <td>1.000000</td>\n",
       "    </tr>\n",
       "    <tr>\n",
       "      <th>1</th>\n",
       "      <td>SVC_Original</td>\n",
       "      <td>0.793333</td>\n",
       "      <td>0.829412</td>\n",
       "    </tr>\n",
       "    <tr>\n",
       "      <th>2</th>\n",
       "      <td>Per_Original</td>\n",
       "      <td>0.800000</td>\n",
       "      <td>0.844706</td>\n",
       "    </tr>\n",
       "  </tbody>\n",
       "</table>\n",
       "</div>"
      ],
      "text/plain": [
       "         models  Test_acc  Train_acc\n",
       "0   DT_Original  0.820000   1.000000\n",
       "1  SVC_Original  0.793333   0.829412\n",
       "2  Per_Original  0.800000   0.844706"
      ]
     },
     "execution_count": 111,
     "metadata": {},
     "output_type": "execute_result"
    }
   ],
   "source": [
    "plot_5 = {'models' : ['DT_Original', 'SVC_Original', 'Per_Original'], \n",
    "          'Test_acc' : [DT_Original_Test_Accuracy, SVC_Original_Test_Accuracy, Per_Original_Test_Accuracy],\n",
    "         'Train_acc' : [DT_Original_Train_Accuracy, SVC_Original_Train_Accuracy, Per_Original_Train_Accuracy]}\n",
    "plot_5_df = pd.DataFrame(plot_5)\n",
    "plot_5_df"
   ]
  },
  {
   "cell_type": "code",
   "execution_count": 112,
   "metadata": {},
   "outputs": [
    {
     "data": {
      "text/plain": [
       "<matplotlib.axes._subplots.AxesSubplot at 0x20d45357fc8>"
      ]
     },
     "execution_count": 112,
     "metadata": {},
     "output_type": "execute_result"
    },
    {
     "data": {
      "image/png": "[encoded data removed]",
      "text/plain": [
       "<Figure size 432x288 with 1 Axes>"
      ]
     },
     "metadata": {
      "needs_background": "light"
     },
     "output_type": "display_data"
    }
   ],
   "source": [
    "plot_5_df.plot.line()"
   ]
  },
  {
   "cell_type": "markdown",
   "metadata": {},
   "source": [
    "### Decision Trees Test Accuracy for Scaled Data"
   ]
  },
  {
   "cell_type": "code",
   "execution_count": 141,
   "metadata": {},
   "outputs": [
    {
     "data": {
      "text/plain": [
       "0.74"
      ]
     },
     "execution_count": 141,
     "metadata": {},
     "output_type": "execute_result"
    }
   ],
   "source": [
    "Scaled_DT = DT.fit(x_train,y_train)\n",
    "y_pred = DT.predict(x_test)\n",
    "DT_Scaled_Test_Accuracy = accuracy_score(y_test,y_pred)\n",
    "DT_Scaled_Test_accuracy"
   ]
  },
  {
   "cell_type": "markdown",
   "metadata": {},
   "source": [
    "### DT Train Accuracy for Scaled Data"
   ]
  },
  {
   "cell_type": "code",
   "execution_count": 142,
   "metadata": {},
   "outputs": [
    {
     "data": {
      "text/plain": [
       "1.0"
      ]
     },
     "execution_count": 142,
     "metadata": {},
     "output_type": "execute_result"
    }
   ],
   "source": [
    "y_pred_2 = DT.predict(x_train)\n",
    "DT_Scaled_Train_accuracy = accuracy_score(y_train,y_pred_2)\n",
    "DT_Scaled_Train_accuracy"
   ]
  },
  {
   "cell_type": "markdown",
   "metadata": {},
   "source": [
    "### SVC Test Accuracy for Scaled Data"
   ]
  },
  {
   "cell_type": "code",
   "execution_count": 143,
   "metadata": {},
   "outputs": [
    {
     "data": {
      "text/plain": [
       "0.88"
      ]
     },
     "execution_count": 143,
     "metadata": {},
     "output_type": "execute_result"
    }
   ],
   "source": [
    "Scaled_SVC = SVC.fit(x_train,y_train)\n",
    "y_pred = SVC.predict(x_test)\n",
    "SVC_Scaled_Test_accuracy = accuracy_score(y_test,y_pred)\n",
    "SVC_Scaled_Test_accuracy"
   ]
  },
  {
   "cell_type": "markdown",
   "metadata": {},
   "source": [
    "### SVC Train Accuracy for Scaled Data"
   ]
  },
  {
   "cell_type": "code",
   "execution_count": 144,
   "metadata": {},
   "outputs": [
    {
     "data": {
      "text/plain": [
       "0.91875"
      ]
     },
     "execution_count": 144,
     "metadata": {},
     "output_type": "execute_result"
    }
   ],
   "source": [
    "y_pred_2 = SVC.predict(x_train)\n",
    "SVC_Scaled_Train_accuracy = accuracy_score(y_train,y_pred_2)\n",
    "SVC_Scaled_Train_accuracy"
   ]
  },
  {
   "cell_type": "markdown",
   "metadata": {},
   "source": [
    "### Perceptron Test Accuracy for Scaled Data"
   ]
  },
  {
   "cell_type": "code",
   "execution_count": 145,
   "metadata": {},
   "outputs": [
    {
     "data": {
      "text/plain": [
       "0.87"
      ]
     },
     "execution_count": 145,
     "metadata": {},
     "output_type": "execute_result"
    }
   ],
   "source": [
    "Scaled_per = Per.fit(x_train,y_train)\n",
    "y_pred = Per.predict(x_test)\n",
    "Per_Scaled_Test_accuracy = accuracy_score(y_test,y_pred)\n",
    "Per_Scaled_Test_accuracy"
   ]
  },
  {
   "cell_type": "markdown",
   "metadata": {},
   "source": [
    "### Perceptron Train Accuracy for Scaled Data"
   ]
  },
  {
   "cell_type": "code",
   "execution_count": 146,
   "metadata": {},
   "outputs": [
    {
     "data": {
      "text/plain": [
       "0.91"
      ]
     },
     "execution_count": 146,
     "metadata": {},
     "output_type": "execute_result"
    }
   ],
   "source": [
    "y_pred_2 = Per.predict(x_train)\n",
    "Per_Scaled_Train_accuracy = accuracy_score(y_train,y_pred_2)\n",
    "Per_Scaled_Train_accuracy"
   ]
  },
  {
   "cell_type": "markdown",
   "metadata": {},
   "source": [
    "Using accuracy score metric from sklearn we have calculated training and testing accuracy for scaled dataset for all the three models."
   ]
  },
  {
   "cell_type": "code",
   "execution_count": 147,
   "metadata": {},
   "outputs": [
    {
     "data": {
      "text/html": [
       "<div>\n",
       "<style scoped>\n",
       "    .dataframe tbody tr th:only-of-type {\n",
       "        vertical-align: middle;\n",
       "    }\n",
       "\n",
       "    .dataframe tbody tr th {\n",
       "        vertical-align: top;\n",
       "    }\n",
       "\n",
       "    .dataframe thead th {\n",
       "        text-align: right;\n",
       "    }\n",
       "</style>\n",
       "<table border=\"1\" class=\"dataframe\">\n",
       "  <thead>\n",
       "    <tr style=\"text-align: right;\">\n",
       "      <th></th>\n",
       "      <th>models</th>\n",
       "      <th>Test_acc</th>\n",
       "      <th>Train_acc</th>\n",
       "    </tr>\n",
       "  </thead>\n",
       "  <tbody>\n",
       "    <tr>\n",
       "      <th>0</th>\n",
       "      <td>DT_Scaled</td>\n",
       "      <td>0.74</td>\n",
       "      <td>1.00000</td>\n",
       "    </tr>\n",
       "    <tr>\n",
       "      <th>1</th>\n",
       "      <td>SVC_Scaled</td>\n",
       "      <td>0.88</td>\n",
       "      <td>0.91875</td>\n",
       "    </tr>\n",
       "    <tr>\n",
       "      <th>2</th>\n",
       "      <td>Per_Scaled</td>\n",
       "      <td>0.87</td>\n",
       "      <td>0.91000</td>\n",
       "    </tr>\n",
       "  </tbody>\n",
       "</table>\n",
       "</div>"
      ],
      "text/plain": [
       "       models  Test_acc  Train_acc\n",
       "0   DT_Scaled      0.74    1.00000\n",
       "1  SVC_Scaled      0.88    0.91875\n",
       "2  Per_Scaled      0.87    0.91000"
      ]
     },
     "execution_count": 147,
     "metadata": {},
     "output_type": "execute_result"
    }
   ],
   "source": [
    "plot_6 = {'models' : ['DT_Scaled', 'SVC_Scaled', 'Per_Scaled'], \n",
    "          'Test_acc' : [DT_Scaled_Test_accuracy, SVC_Scaled_Test_accuracy, Per_Scaled_Test_accuracy],\n",
    "         'Train_acc' : [DT_Scaled_Train_accuracy, SVC_Scaled_Train_accuracy, Per_Scaled_Train_accuracy]}\n",
    "plot_6_df = pd.DataFrame(plot_6)\n",
    "plot_6_df"
   ]
  },
  {
   "cell_type": "code",
   "execution_count": 148,
   "metadata": {},
   "outputs": [
    {
     "data": {
      "text/plain": [
       "<matplotlib.axes._subplots.AxesSubplot at 0x20d45ddabc8>"
      ]
     },
     "execution_count": 148,
     "metadata": {},
     "output_type": "execute_result"
    },
    {
     "data": {
      "image/png": "[encoded data removed]",
      "text/plain": [
       "<Figure size 432x288 with 1 Axes>"
      ]
     },
     "metadata": {
      "needs_background": "light"
     },
     "output_type": "display_data"
    }
   ],
   "source": [
    "plot_6_df.plot.line()"
   ]
  },
  {
   "cell_type": "code",
   "execution_count": 121,
   "metadata": {},
   "outputs": [],
   "source": [
    "from sklearn.model_selection import train_test_split\n",
    "X_train, X_test, Y_train, Y_test = train_test_split(X, Y, test_size=0.20, random_state= 590)\n",
    "x_train, x_test, y_train, y_test = train_test_split(x, y, test_size=0.20, random_state=590)"
   ]
  },
  {
   "cell_type": "markdown",
   "metadata": {},
   "source": [
    "using train test split we have split the data in 20% testing and 80% training"
   ]
  },
  {
   "cell_type": "markdown",
   "metadata": {},
   "source": [
    "### DT Test Accuracy for Original Data"
   ]
  },
  {
   "cell_type": "code",
   "execution_count": 122,
   "metadata": {},
   "outputs": [
    {
     "data": {
      "text/plain": [
       "0.84"
      ]
     },
     "execution_count": 122,
     "metadata": {},
     "output_type": "execute_result"
    }
   ],
   "source": [
    "Original_DT = DT.fit(X_train,Y_train)\n",
    "Y_pred = DT.predict(X_test)\n",
    "DT_Original_Test_Accuracy = accuracy_score(Y_test,Y_pred)\n",
    "DT_Original_Test_Accuracy"
   ]
  },
  {
   "cell_type": "markdown",
   "metadata": {},
   "source": [
    "### DT Train Accuracy for Original Data"
   ]
  },
  {
   "cell_type": "code",
   "execution_count": 123,
   "metadata": {},
   "outputs": [
    {
     "data": {
      "text/plain": [
       "1.0"
      ]
     },
     "execution_count": 123,
     "metadata": {},
     "output_type": "execute_result"
    }
   ],
   "source": [
    "Y_pred_2 = DT.predict(X_train)\n",
    "DT_Original_Train_Accuracy = accuracy_score(Y_train,Y_pred_2)\n",
    "DT_Original_Train_Accuracy"
   ]
  },
  {
   "cell_type": "markdown",
   "metadata": {},
   "source": [
    "### SVC Test Accuracy for Original Data"
   ]
  },
  {
   "cell_type": "code",
   "execution_count": 124,
   "metadata": {},
   "outputs": [
    {
     "name": "stderr",
     "output_type": "stream",
     "text": [
      "C:\\Users\\saisa\\Anaconda3\\lib\\site-packages\\sklearn\\svm\\_base.py:947: ConvergenceWarning: Liblinear failed to converge, increase the number of iterations.\n",
      "  \"the number of iterations.\", ConvergenceWarning)\n"
     ]
    },
    {
     "data": {
      "text/plain": [
       "0.815"
      ]
     },
     "execution_count": 124,
     "metadata": {},
     "output_type": "execute_result"
    }
   ],
   "source": [
    "Original_SVC = SVC.fit(X_train,Y_train)\n",
    "Y_pred = SVC.predict(X_test)\n",
    "SVC_Original_Test_Accuracy = accuracy_score(Y_test,Y_pred)\n",
    "SVC_Original_Test_Accuracy"
   ]
  },
  {
   "cell_type": "markdown",
   "metadata": {},
   "source": [
    "### SVC Train accuracy for Original Data"
   ]
  },
  {
   "cell_type": "code",
   "execution_count": 125,
   "metadata": {},
   "outputs": [
    {
     "data": {
      "text/plain": [
       "0.87"
      ]
     },
     "execution_count": 125,
     "metadata": {},
     "output_type": "execute_result"
    }
   ],
   "source": [
    "Y_pred_2 = SVC.predict(X_train)\n",
    "SVC_Original_Train_Accuracy = accuracy_score(Y_train,Y_pred_2)\n",
    "SVC_Original_Train_Accuracy"
   ]
  },
  {
   "cell_type": "markdown",
   "metadata": {},
   "source": [
    "### Perceptron Test Accuracy for Original Data"
   ]
  },
  {
   "cell_type": "code",
   "execution_count": 126,
   "metadata": {},
   "outputs": [
    {
     "data": {
      "text/plain": [
       "0.84"
      ]
     },
     "execution_count": 126,
     "metadata": {},
     "output_type": "execute_result"
    }
   ],
   "source": [
    "Original_per = Per.fit(X_train,Y_train)\n",
    "Y_pred = Per.predict(X_test)\n",
    "Per_Original_Test_Accuracy = accuracy_score(Y_test,Y_pred)\n",
    "Per_Original_Test_Accuracy"
   ]
  },
  {
   "cell_type": "markdown",
   "metadata": {},
   "source": [
    "### Perceptron Train Accuracy for Original Data"
   ]
  },
  {
   "cell_type": "code",
   "execution_count": 127,
   "metadata": {},
   "outputs": [
    {
     "data": {
      "text/plain": [
       "0.8725"
      ]
     },
     "execution_count": 127,
     "metadata": {},
     "output_type": "execute_result"
    }
   ],
   "source": [
    "Y_pred_2 = Per.predict(X_train)\n",
    "Per_Original_Train_Accuracy = accuracy_score(Y_train,Y_pred_2)\n",
    "Per_Original_Train_Accuracy"
   ]
  },
  {
   "cell_type": "markdown",
   "metadata": {},
   "source": [
    "Using accuracy score metric from sklearn we have calculated training and testing accuracy for original dataset for all the three models."
   ]
  },
  {
   "cell_type": "code",
   "execution_count": 128,
   "metadata": {},
   "outputs": [
    {
     "data": {
      "text/html": [
       "<div>\n",
       "<style scoped>\n",
       "    .dataframe tbody tr th:only-of-type {\n",
       "        vertical-align: middle;\n",
       "    }\n",
       "\n",
       "    .dataframe tbody tr th {\n",
       "        vertical-align: top;\n",
       "    }\n",
       "\n",
       "    .dataframe thead th {\n",
       "        text-align: right;\n",
       "    }\n",
       "</style>\n",
       "<table border=\"1\" class=\"dataframe\">\n",
       "  <thead>\n",
       "    <tr style=\"text-align: right;\">\n",
       "      <th></th>\n",
       "      <th>models</th>\n",
       "      <th>Test_acc</th>\n",
       "      <th>Train_acc</th>\n",
       "    </tr>\n",
       "  </thead>\n",
       "  <tbody>\n",
       "    <tr>\n",
       "      <th>0</th>\n",
       "      <td>DT_Original</td>\n",
       "      <td>0.840</td>\n",
       "      <td>1.0000</td>\n",
       "    </tr>\n",
       "    <tr>\n",
       "      <th>1</th>\n",
       "      <td>SVC_Original</td>\n",
       "      <td>0.815</td>\n",
       "      <td>0.8700</td>\n",
       "    </tr>\n",
       "    <tr>\n",
       "      <th>2</th>\n",
       "      <td>Per_Original</td>\n",
       "      <td>0.840</td>\n",
       "      <td>0.8725</td>\n",
       "    </tr>\n",
       "  </tbody>\n",
       "</table>\n",
       "</div>"
      ],
      "text/plain": [
       "         models  Test_acc  Train_acc\n",
       "0   DT_Original     0.840     1.0000\n",
       "1  SVC_Original     0.815     0.8700\n",
       "2  Per_Original     0.840     0.8725"
      ]
     },
     "execution_count": 128,
     "metadata": {},
     "output_type": "execute_result"
    }
   ],
   "source": [
    "plot_7 = {'models' : ['DT_Original', 'SVC_Original', 'Per_Original'], \n",
    "          'Test_acc' : [DT_Original_Test_Accuracy, SVC_Original_Test_Accuracy, Per_Original_Test_Accuracy],\n",
    "         'Train_acc' : [DT_Original_Train_Accuracy, SVC_Original_Train_Accuracy, Per_Original_Train_Accuracy]}\n",
    "plot_7_df = pd.DataFrame(plot_7)\n",
    "plot_7_df"
   ]
  },
  {
   "cell_type": "code",
   "execution_count": 129,
   "metadata": {},
   "outputs": [
    {
     "data": {
      "text/plain": [
       "<matplotlib.axes._subplots.AxesSubplot at 0x20d45cd3c48>"
      ]
     },
     "execution_count": 129,
     "metadata": {},
     "output_type": "execute_result"
    },
    {
     "data": {
      "image/png": "[encoded data removed]",
      "text/plain": [
       "<Figure size 432x288 with 1 Axes>"
      ]
     },
     "metadata": {
      "needs_background": "light"
     },
     "output_type": "display_data"
    }
   ],
   "source": [
    "plot_6_df.plot.line()"
   ]
  },
  {
   "cell_type": "markdown",
   "metadata": {},
   "source": [
    "### DT Test Accuracy for Scaled Data"
   ]
  },
  {
   "cell_type": "code",
   "execution_count": 133,
   "metadata": {},
   "outputs": [
    {
     "data": {
      "text/plain": [
       "0.74"
      ]
     },
     "execution_count": 133,
     "metadata": {},
     "output_type": "execute_result"
    }
   ],
   "source": [
    "Scaled_DT = DT.fit(x_train,y_train)\n",
    "y_pred = DT.predict(x_test)\n",
    "DT_Scaled_Test_Accuracy = accuracy_score(y_test,y_pred)\n",
    "DT_Scaled_Test_accuracy"
   ]
  },
  {
   "cell_type": "markdown",
   "metadata": {},
   "source": [
    "### DT Train Accuracy for Scaled Data"
   ]
  },
  {
   "cell_type": "code",
   "execution_count": 134,
   "metadata": {},
   "outputs": [
    {
     "data": {
      "text/plain": [
       "1.0"
      ]
     },
     "execution_count": 134,
     "metadata": {},
     "output_type": "execute_result"
    }
   ],
   "source": [
    "y_pred_2 = DT.predict(x_train)\n",
    "DT_Scaled_Train_accuracy = accuracy_score(y_train,y_pred_2)\n",
    "DT_Scaled_Train_accuracy"
   ]
  },
  {
   "cell_type": "markdown",
   "metadata": {},
   "source": [
    "### SVC Test Accuracy for Scaled Data"
   ]
  },
  {
   "cell_type": "code",
   "execution_count": 135,
   "metadata": {},
   "outputs": [
    {
     "data": {
      "text/plain": [
       "0.88"
      ]
     },
     "execution_count": 135,
     "metadata": {},
     "output_type": "execute_result"
    }
   ],
   "source": [
    "Scaled_SVC = SVC.fit(x_train,y_train)\n",
    "y_pred = SVC.predict(x_test)\n",
    "SVC_Scaled_Test_accuracy = accuracy_score(y_test,y_pred)\n",
    "SVC_Scaled_Test_accuracy"
   ]
  },
  {
   "cell_type": "markdown",
   "metadata": {},
   "source": [
    "### SVC Train Accuracy for Scaled Data"
   ]
  },
  {
   "cell_type": "code",
   "execution_count": 136,
   "metadata": {},
   "outputs": [
    {
     "data": {
      "text/plain": [
       "0.91875"
      ]
     },
     "execution_count": 136,
     "metadata": {},
     "output_type": "execute_result"
    }
   ],
   "source": [
    "y_pred_2 = SVC.predict(x_train)\n",
    "SVC_Scaled_Train_accuracy = accuracy_score(y_train,y_pred_2)\n",
    "SVC_Scaled_Train_accuracy"
   ]
  },
  {
   "cell_type": "markdown",
   "metadata": {},
   "source": [
    "### Perceptron Test Accuracy for Scaled Data"
   ]
  },
  {
   "cell_type": "code",
   "execution_count": 137,
   "metadata": {},
   "outputs": [
    {
     "data": {
      "text/plain": [
       "0.87"
      ]
     },
     "execution_count": 137,
     "metadata": {},
     "output_type": "execute_result"
    }
   ],
   "source": [
    "Scaled_per = Per.fit(x_train,y_train)\n",
    "y_pred = Per.predict(x_test)\n",
    "Per_Scaled_Test_accuracy = accuracy_score(y_test,y_pred)\n",
    "Per_Scaled_Test_accuracy"
   ]
  },
  {
   "cell_type": "markdown",
   "metadata": {},
   "source": [
    "### Perceptron Train Accuracy for Scaled Data"
   ]
  },
  {
   "cell_type": "code",
   "execution_count": 138,
   "metadata": {},
   "outputs": [
    {
     "data": {
      "text/plain": [
       "0.91"
      ]
     },
     "execution_count": 138,
     "metadata": {},
     "output_type": "execute_result"
    }
   ],
   "source": [
    "y_pred_2 = Per.predict(x_train)\n",
    "Per_Scaled_Train_accuracy = accuracy_score(y_train,y_pred_2)\n",
    "Per_Scaled_Train_accuracy"
   ]
  },
  {
   "cell_type": "markdown",
   "metadata": {},
   "source": [
    "Using accuracy score metric from sklearn we have calculated training and testing accuracy for scaled dataset for all the three models."
   ]
  },
  {
   "cell_type": "code",
   "execution_count": 139,
   "metadata": {},
   "outputs": [
    {
     "data": {
      "text/html": [
       "<div>\n",
       "<style scoped>\n",
       "    .dataframe tbody tr th:only-of-type {\n",
       "        vertical-align: middle;\n",
       "    }\n",
       "\n",
       "    .dataframe tbody tr th {\n",
       "        vertical-align: top;\n",
       "    }\n",
       "\n",
       "    .dataframe thead th {\n",
       "        text-align: right;\n",
       "    }\n",
       "</style>\n",
       "<table border=\"1\" class=\"dataframe\">\n",
       "  <thead>\n",
       "    <tr style=\"text-align: right;\">\n",
       "      <th></th>\n",
       "      <th>models</th>\n",
       "      <th>Test_acc</th>\n",
       "      <th>Train_acc</th>\n",
       "    </tr>\n",
       "  </thead>\n",
       "  <tbody>\n",
       "    <tr>\n",
       "      <th>0</th>\n",
       "      <td>DT_Scaled</td>\n",
       "      <td>0.74</td>\n",
       "      <td>1.00000</td>\n",
       "    </tr>\n",
       "    <tr>\n",
       "      <th>1</th>\n",
       "      <td>SVC_Scaled</td>\n",
       "      <td>0.88</td>\n",
       "      <td>0.91875</td>\n",
       "    </tr>\n",
       "    <tr>\n",
       "      <th>2</th>\n",
       "      <td>Per_Scaled</td>\n",
       "      <td>0.87</td>\n",
       "      <td>0.91000</td>\n",
       "    </tr>\n",
       "  </tbody>\n",
       "</table>\n",
       "</div>"
      ],
      "text/plain": [
       "       models  Test_acc  Train_acc\n",
       "0   DT_Scaled      0.74    1.00000\n",
       "1  SVC_Scaled      0.88    0.91875\n",
       "2  Per_Scaled      0.87    0.91000"
      ]
     },
     "execution_count": 139,
     "metadata": {},
     "output_type": "execute_result"
    }
   ],
   "source": [
    "plot_8 = {'models' : ['DT_Scaled', 'SVC_Scaled', 'Per_Scaled'], \n",
    "          'Test_acc' : [DT_Scaled_Test_accuracy, SVC_Scaled_Test_accuracy, Per_Scaled_Test_accuracy],\n",
    "         'Train_acc' : [DT_Scaled_Train_accuracy, SVC_Scaled_Train_accuracy, Per_Scaled_Train_accuracy]}\n",
    "plot_8_df = pd.DataFrame(plot_8)\n",
    "plot_8_df"
   ]
  },
  {
   "cell_type": "code",
   "execution_count": 140,
   "metadata": {},
   "outputs": [
    {
     "data": {
      "text/plain": [
       "<matplotlib.axes._subplots.AxesSubplot at 0x20d45d56288>"
      ]
     },
     "execution_count": 140,
     "metadata": {},
     "output_type": "execute_result"
    },
    {
     "data": {
      "image/png": "[encoded data removed]",
      "text/plain": [
       "<Figure size 432x288 with 1 Axes>"
      ]
     },
     "metadata": {
      "needs_background": "light"
     },
     "output_type": "display_data"
    }
   ],
   "source": [
    "plot_8_df.plot.line()"
   ]
  },
  {
   "cell_type": "markdown",
   "metadata": {},
   "source": [
    "8- Explain why certain models achieved better accuracy for training or testing than the other models in a clear non-Pythonnic language (plain English)."
   ]
  },
  {
   "cell_type": "markdown",
   "metadata": {},
   "source": [
    "Change in accuracy for different models can be because of inputting more training data which in turn leads to overfitting. This haapened with Decision Tree classifier. Overall Decision tree Classifer accuracy is low it can be because of large tree depth. And overall Perceptron has better accuracies compared to both. It is because Perceptron tries to derive significance of the features in the data. Finally SVC has mediocre accuracies because it depends more on training data which leads to generalization."
   ]
  },
  {
   "cell_type": "markdown",
   "metadata": {},
   "source": [
    "9- Any improvement in the accuracy of the testing data because of the scaling? Explain your findings.\n",
    "\n"
   ]
  },
  {
   "cell_type": "markdown",
   "metadata": {},
   "source": [
    "Yes, after scaling there is significant improvement in test accuracies when compared to accuraties of original data. Genrally, Machine Learning models compute the distance between 2 data points using euclidean distance. So, the algorithm favours the feature with beigger range, when the magnitude of one feature is high compare to other."
   ]
  },
  {
   "cell_type": "code",
   "execution_count": null,
   "metadata": {},
   "outputs": [],
   "source": []
  }
 ],
 "metadata": {
  "kernelspec": {
   "display_name": "Python 3",
   "language": "python",
   "name": "python3"
  },
  "language_info": {
   "codemirror_mode": {
    "name": "ipython",
    "version": 3
   },
   "file_extension": ".py",
   "mimetype": "text/x-python",
   "name": "python",
   "nbconvert_exporter": "python",
   "pygments_lexer": "ipython3",
   "version": "3.7.4"
  }
 },
 "nbformat": 4,
 "nbformat_minor": 4
}
